{
 "cells": [
  {
   "cell_type": "code",
   "execution_count": null,
   "id": "6dbe2baa-37bd-47e3-9b42-648adb719688",
   "metadata": {},
   "outputs": [],
   "source": [
    "# original_path=\"C:\\Datasets\\Compression\\KAUST_wind_preprocessed.nc\"\n",
    "# zip_dir=\"C:\\Datasets\\Compression\\jpeg2000\\KAUST_wind_preprocessed.nc\"\n",
    "# unzip_path=\"C:\\Datasets\\Compression\\jpeg2000\\KAUST_wind_preprocessed.nc\" \n",
    "# /store01/pcrippa/ajanisz2/WRF-ERA5-SRTM-TKE-IOP1 \n",
    "\n",
    "file_name=\"wrfout_d04_2022-04-05_16:20:00\"\n",
    "save_dir=\"/afs/crc.nd.edu/user/z/zliang7/Dataset/\"\n",
    "file_dir=\"/store01/pcrippa/ajanisz2/WRF-ERA5-SRTM-TKE-IOP1/\"\n",
    "zip_dir=save_dir+file_name\n",
    "unzip_path=save_dir+file_name\n",
    "original_path=file_dir+file_name\n",
    "\n",
    "\n",
    "paths=[path1,path2]\n",
    "import xarray as xr\n",
    "ds=xr.open_dataset(original_path)\n",
    "import xarray as xr\n",
    "def _preprocess(x):\n",
    "    # Step 1: Check if input is string or xarray\n",
    "    return x[[\"T2\",\"U10\",\"V10\",\"PSFC\",\"LAI\",\"ALBEDO\",\"RAINC\"]].set_index(Time='XTIME')\n",
    "\n",
    "ds = xr.open_mfdataset(\n",
    "    file_dir+\"wrfout_d04_*\",  preprocess=_preprocess\n",
    ")  \n",
    "ds = ds.assign_coords(south_north=ds.XLAT.isel(Time=0, west_east=0).values)\n",
    "ds = ds.assign_coords(west_east=ds.XLONG.isel(Time=0, south_north=0).values)\n",
    "ds = ds.drop_vars(['XLAT', 'XLONG'])\n",
    "ds = ds.rename({'south_north': 'latitude', 'west_east': 'longitude',\"Time\":\"time\"})\n",
    "ds\n",
    "\n",
    "\n",
    "ds.to_netcdf(save_dir+\"d04_batch.nc\")"
   ]
  }
 ],
 "metadata": {
  "kernelspec": {
   "display_name": "Python 3 (ipykernel)",
   "language": "python",
   "name": "python3"
  },
  "language_info": {
   "codemirror_mode": {
    "name": "ipython",
    "version": 3
   },
   "file_extension": ".py",
   "mimetype": "text/x-python",
   "name": "python",
   "nbconvert_exporter": "python",
   "pygments_lexer": "ipython3",
   "version": "3.10.14"
  }
 },
 "nbformat": 4,
 "nbformat_minor": 5
}
