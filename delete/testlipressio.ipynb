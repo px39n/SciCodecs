{
 "cells": [
  {
   "cell_type": "code",
   "execution_count": 16,
   "metadata": {},
   "outputs": [
    {
     "name": "stdout",
     "output_type": "stream",
     "text": [
      "Maximum error: 0.684249758720398\n"
     ]
    }
   ],
   "source": [
    "\n",
    "import libpressio\n",
    "import numpy as np\n",
    "\n",
    "# 创建一个随机数组\n",
    "data = np.random.rand(100, 100).astype(np.float32)\n",
    "\n",
    "# 初始化压缩器\n",
    "compressor = libpressio.PressioCompressor.from_config({\n",
    "    \"compressor_id\": \"zfp\",  # 使用 sz3\n",
    "    \"compressor_config\": {\n",
    "        \"zfp:precision\": 5,  # 设置绝对误差阈值\n",
    "    }\n",
    "})\n",
    "\n",
    "# 压缩数据\n",
    "compressed_data = compressor.encode(data)\n",
    "\n",
    "# 解压缩数据\n",
    "decompressed_data = compressor.decode(compressed_data, np.empty_like(data))\n",
    "\n",
    "# 验证结果\n",
    "max_error = np.max(np.abs(data - decompressed_data))\n",
    "print(f\"Maximum error: {max_error}\")\n"
   ]
  },
  {
   "cell_type": "code",
   "execution_count": 8,
   "metadata": {},
   "outputs": [
    {
     "name": "stdout",
     "output_type": "stream",
     "text": [
      "\n",
      "Compressor options:\n",
      "{'metrics:copy_compressor_results': 1, 'metrics:errors_fatal': 1, 'pressio:abs': 1e-06, 'pressio:metric': 'noop', 'pressio:nthreads': 1, 'pressio:rel': None, 'sz3:abs_error_bound': 1e-06, 'sz3:algorithm': 1, 'sz3:algorithm_str': None, 'sz3:encoder': 1, 'sz3:error_bound_mode': 0, 'sz3:error_bound_mode_str': None, 'sz3:interp_algo': 1, 'sz3:interp_block_size': 32, 'sz3:interp_direction': 0, 'sz3:intrep_algo_str': None, 'sz3:l2_norm_error_bound': 0.0, 'sz3:lorenzo': True, 'sz3:lorenzo2': False, 'sz3:lossless': 1, 'sz3:metric': 'noop', 'sz3:openmp': False, 'sz3:pred_dim': 1, 'sz3:psnr_error_bound': 0.0, 'sz3:quant_bin_size': 65536, 'sz3:regression': True, 'sz3:regression2': False, 'sz3:rel_error_bound': 0.0, 'sz3:stride': 128}\n",
      "\n",
      "Compressor options:\n",
      "{'metrics:copy_compressor_results': 1, 'metrics:errors_fatal': 1, 'pressio:abs': None, 'pressio:lossless': None, 'pressio:metric': 'noop', 'pressio:nthreads': 0, 'zfp:accuracy': None, 'zfp:dims': None, 'zfp:execution': 0, 'zfp:execution_name': None, 'zfp:maxbits': 16658, 'zfp:maxprec': 64, 'zfp:metric': 'noop', 'zfp:minbits': 1, 'zfp:minexp': -10, 'zfp:mode': None, 'zfp:omp_chunk_size': 0, 'zfp:omp_threads': 0, 'zfp:precision': None, 'zfp:rate': None, 'zfp:reversible': None, 'zfp:type': None, 'zfp:wra': None}\n",
      "\n",
      "Compressor options:\n",
      "{'metrics:copy_compressor_results': 1, 'metrics:errors_fatal': 1, 'mgard:decomposition': 0, 'mgard:decomposition_str': 'multidim', 'mgard:dev_id': 0, 'mgard:dev_type': 1, 'mgard:dev_type_str': 'serial', 'mgard:error_bound_type': 1, 'mgard:error_bound_type_str': 'abs', 'mgard:huff_block_size': 20480, 'mgard:huff_dict_size': 8192, 'mgard:log_level': 16, 'mgard:lossless_type': 0, 'mgard:lossless_type_str': 'huffman', 'mgard:lz4_block_size': 32768, 'mgard:metric': 'noop', 'mgard:normalize_coordinates': True, 'mgard:nthreads': 1, 'mgard:reorder': 0, 'mgard:s': inf, 'mgard:tolerance': 0.0001, 'mgard:zstd_compress_level': 3, 'pressio:abs': 0.0001, 'pressio:metric': 'noop', 'pressio:nthreads': 1}\n"
     ]
    }
   ],
   "source": [
    "import libpressio\n",
    "\n",
    "libpressio.supported_compressors()\n",
    "\n",
    "# Get configuration options for a specific compressor (e.g., zfp)\n",
    "compressor = libpressio.PressioCompressor.from_config({\"compressor_id\": \"sz3\"})\n",
    "print(\"\\nCompressor options:\")\n",
    "print(compressor.get_options())\n",
    "\n",
    "# Get configuration options for a specific compressor (e.g., zfp)\n",
    "compressor = libpressio.PressioCompressor.from_config({\"compressor_id\": \"zfp\"})\n",
    "print(\"\\nCompressor options:\")\n",
    "print(compressor.get_options())\n",
    "\n",
    "\n",
    "\n",
    "import libpressio\n",
    "\n",
    "libpressio.supported_compressors()\n",
    "\n",
    "# Get configuration options for a specific compressor (e.g., zfp)\n",
    "compressor = libpressio.PressioCompressor.from_config({\"compressor_id\": \"mgard\"})\n",
    "print(\"\\nCompressor options:\")\n",
    "print(compressor.get_options())\n",
    "\n"
   ]
  },
  {
   "cell_type": "code",
   "execution_count": null,
   "metadata": {},
   "outputs": [],
   "source": []
  },
  {
   "cell_type": "code",
   "execution_count": 5,
   "metadata": {},
   "outputs": [
    {
     "ename": "ModuleNotFoundError",
     "evalue": "No module named 'nco'",
     "output_type": "error",
     "traceback": [
      "\u001b[0;31m---------------------------------------------------------------------------\u001b[0m",
      "\u001b[0;31mModuleNotFoundError\u001b[0m                       Traceback (most recent call last)",
      "Cell \u001b[0;32mIn[5], line 1\u001b[0m\n\u001b[0;32m----> 1\u001b[0m \u001b[38;5;28;01mfrom\u001b[39;00m \u001b[38;5;21;01mnco\u001b[39;00m \u001b[38;5;28;01mimport\u001b[39;00m Nco\n\u001b[1;32m      2\u001b[0m nco \u001b[38;5;241m=\u001b[39m Nco()\n\u001b[1;32m      3\u001b[0m \u001b[38;5;66;03m#temperatures = nco.ncra(input=\"D:/Dataset/dataset_d04_mini.nc\", returnCdf=True)\u001b[39;00m\n\u001b[1;32m      4\u001b[0m \n\u001b[1;32m      5\u001b[0m \n\u001b[1;32m      6\u001b[0m \u001b[38;5;66;03m# Define input and output file paths with double backslashes\u001b[39;00m\n",
      "\u001b[0;31mModuleNotFoundError\u001b[0m: No module named 'nco'"
     ]
    }
   ],
   "source": [
    "from nco import Nco\n",
    "nco = Nco()\n",
    "#temperatures = nco.ncra(input=\"D:/Dataset/dataset_d04_mini.nc\", returnCdf=True)\n",
    "\n",
    "\n",
    "# Define input and output file paths with double backslashes\n",
    "input_file = \"D:\\\\Dataset\\\\dataset_d04_mini.nc\"\n",
    "output_file = \"D:\\\\Dataset\\\\dataset_d04_miniout.nc\"\n",
    "\n",
    "# # Ensure the output directory exists and has write permiss\n",
    "# options = [\n",
    "#     \"-7\",            # Specify NetCDF-4 format\n",
    "#     \"-L 1\",          # Set compression level to 1\n",
    "#     \"--baa=2\",       # Set Bit Adjustment Algorithm to 2\n",
    "#     \"--ppc\", \"default=3\"  # Precision Preserving Compression, keep 3 significant digits\n",
    "# ]\n",
    "\n",
    "# # Run ncks with specified options\n",
    "# nco.ncks(input=input_file, output=output_file, options=options)\n",
    "\n",
    "import xarray as xr\n",
    "ds = xr.open_dataset(output_file)\n",
    "ds.T2.isel(time=0).plot()"
   ]
  }
 ],
 "metadata": {
  "kernelspec": {
   "display_name": "compressAI",
   "language": "python",
   "name": "python3"
  },
  "language_info": {
   "codemirror_mode": {
    "name": "ipython",
    "version": 3
   },
   "file_extension": ".py",
   "mimetype": "text/x-python",
   "name": "python",
   "nbconvert_exporter": "python",
   "pygments_lexer": "ipython3",
   "version": "3.12.7"
  }
 },
 "nbformat": 4,
 "nbformat_minor": 2
}
