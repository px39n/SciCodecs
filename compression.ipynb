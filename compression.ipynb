{
 "cells": [
  {
   "cell_type": "markdown",
   "metadata": {},
   "source": [
    "# Compressor Module Test"
   ]
  },
  {
   "cell_type": "markdown",
   "metadata": {},
   "source": [
    "## 1. Compress the Structured Array\n"
   ]
  },
  {
   "cell_type": "markdown",
   "metadata": {},
   "source": [
    "**Step 1. Create a Structured Array.**\n",
    "\n",
    "We first create a random 3D array with shape (255, 255, 100) \n",
    "\n",
    "to simulate a structured array with dimensions (longitude, latitude, time).\n",
    "\n",
    " The array is cast to float32 type."
   ]
  },
  {
   "cell_type": "code",
   "execution_count": 2,
   "metadata": {},
   "outputs": [],
   "source": [
    "import scicodec as sc\n",
    "import numpy as np\n",
    "\n",
    "# Create a Structured Array. (lon, lat, time)\n",
    "example_array = np.random.rand(100,255, 255).astype(np.float32)\n"
   ]
  },
  {
   "cell_type": "markdown",
   "metadata": {},
   "source": [
    "**Step 1. Select the proper compressor and error bound.**\n",
    "\n",
    "\n",
    "**i. Available Compression Methods**\n",
    "\n",
    "\n",
    "\n",
    "| Compression Method| Mode| Explanation| Supported Error Mode| Extended Package| Reference |\n",
    "|---|---|---|---|---|---|\n",
    "|SZ3|Lossy|Prediction-based lossy compressor|abs_precision|libpressio|https://github.com/szcompressor/sz3|\n",
    "|MGARD|Lossy|Prediction-based lossy compressor|abs_precision|libpressio|https://github.com/LLNL/mgard|\n",
    "|ZFP|Lossy|Prediction-based lossy compressor|fixed_ratio,bit_precision[0-64]|libpressio|https://github.com/LLNL/zfp|\n",
    "|MBT2018|Lossy|Deep learning based compressor|level[1-8]|None|https://github.com/mbt2018/compression|\n",
    "|bmshj2018_factorized|Lossy|Deep learning based compressor|level[1-8]|None|https://github.com/InterDigitalInc/CompressAI|\n",
    "|cheng2020_anchor|Lossy|Deep learning based compressor|level[1-6]|None|https://github.com/cheng2020/compression|\n",
    "|Zlib|Lossless|General purpose compressor|level[0-9]|numcodecs|Built-in|\n",
    "|Blosc|Lossless|High-performance compressor|level[0-9]|numcodecs|None|\n",
    "|LZ4|Lossless|Fast compression|level[0-12]|numcodecs|None|\n",
    "|Zstd|Lossless||level[0-9]|numcodecs|https://numcodecs.readthedocs.io/en/stable/compression/zstd.html|\n",
    "|GZip|Lossless|gzip compression using zlib|level[0-9]|numcodecs||\n",
    "|FPZip|Lossy|Floating-point compressor|rel_precision,bit_precision[0-64]|FPZip,numcodecs|https://github.com/LLNL/fpzip|\n",
    "\n",
    "\n",
    "\n",
    "\n",
    "**ii. Error Bound**\n",
    "\n",
    "SkyShrink supports multiple error bounds for lossy compression. The error bound determines how much error is allowed during compression.\n",
    "**Supported Error Bounds**\n",
    "\n",
    "|Error Bound| Parameter in Code|Formula| Range|\n",
    "|---|---|---|---|\n",
    "|Absolute Error| abs_precision|max(\\|x - x'\\|) ≤ ε|0 < ε < 1|\n",
    "|Relative Error|rel_precision|max(\\|x - x'\\|/\\|x\\|) ≤ ε|0 < ε < 1|\n",
    "|Bit Precision|bit_precision||0<bit_precision<64|\n",
    "|Mean Absolute Error| mae|mean(\\|x - x'\\|) ≤ ε|0 < ε < 1|\n",
    "|Fixed Ratio|fixed_ratio|size(x')/size(x) ≤ ratio|0 < ratio < 1|\n",
    "|Level of Detail|level|1 is fastest; 9 is slowest and produces the most compression; 0 is no compression.|\n",
    "1 (Z_BEST_SPEED) is fastest and produces the least compression, 9 (Z_BEST_COMPRESSION) is slowest and produces the most. 0 (Z_NO_COMPRESSION) is no compression. \n",
    "Where x is the original data, x' is the compressed data, and ε is the error bound.\n"
   ]
  },
  {
   "cell_type": "code",
   "execution_count": 3,
   "metadata": {},
   "outputs": [
    {
     "name": "stdout",
     "output_type": "stream",
     "text": [
      "Available compressors: ['zlib', 'gzip', 'bz2', 'lzma', 'lz4', 'blosc', 'fpzip', 'zstd', 'sz3', 'mgard', 'zfp', 'mbt2018', 'cheng2020_anchor', 'bmshj2018_factorized']\n",
      "['abs_precision']\n"
     ]
    }
   ],
   "source": [
    "# Encode and Decode the Single Structured Array.\n",
    "print(\"Available compressors:\", sc.compression.supported_compressors)\n",
    "# Supported Error Bounds\n",
    "print(sc.compression.supported_error_bounds['sz3'])"
   ]
  },
  {
   "cell_type": "code",
   "execution_count": 7,
   "metadata": {},
   "outputs": [],
   "source": [
    "# Initialize compressor with SZ3 method and absolute tolerance of 1e-3\n",
    "\n",
    "#compressor = sc.compression.Compressor(method='sz3', abs_precision=1e-3)\n",
    "compressor = sc.compression.Compressor(method='zlib', level=1)\n",
    "compressor = sc.compression.Compressor(method='LZ4', level=1)\n",
    "compressor = sc.compression.Compressor(method='gzip', level=1)\n",
    "compressor = sc.compression.Compressor(method='zstd', level=1)\n",
    "compressor = sc.compression.Compressor(method='blosc', level=1)\n",
    "compressor = sc.compression.Compressor(method='fpzip', rel_precision=0.0001)\n",
    "compressor = sc.compression.Compressor(method='sz3', abs_precision=1)\n",
    "compressor = sc.compression.Compressor(method='mgard', abs_precision=1)\n",
    "\n",
    "compressor = sc.compression.Compressor(method='cheng2020_anchor', level=5)\n",
    "compressor = sc.compression.Compressor(method='mbt2018', level=5)\n",
    "compressor = sc.compression.Compressor(method='bmshj2018_factorized', level=5)\n",
    "compressor = sc.compression.Compressor(method='zfp', bit_precision=5)"
   ]
  },
  {
   "cell_type": "markdown",
   "metadata": {},
   "source": [
    "**Step 2. Encode the Structured Array.**\n"
   ]
  },
  {
   "cell_type": "code",
   "execution_count": 8,
   "metadata": {},
   "outputs": [
    {
     "data": {
      "text/plain": [
       "1414904"
      ]
     },
     "execution_count": 8,
     "metadata": {},
     "output_type": "execute_result"
    }
   ],
   "source": [
    "# Initialize compressor with SZ3 method and absolute tolerance of 1e-3\n",
    "bitstrings = compressor.encode(example_array)\n",
    "len(bitstrings)"
   ]
  },
  {
   "cell_type": "markdown",
   "metadata": {},
   "source": [
    "**Step 3. Decode**"
   ]
  },
  {
   "cell_type": "code",
   "execution_count": 29,
   "metadata": {},
   "outputs": [
    {
     "name": "stdout",
     "output_type": "stream",
     "text": [
      "{'quality': 5, 'pretrained': True, 'device': 'cpu'}\n"
     ]
    },
    {
     "data": {
      "text/plain": [
       "(100, 255, 255)"
      ]
     },
     "execution_count": 29,
     "metadata": {},
     "output_type": "execute_result"
    }
   ],
   "source": [
    "# Decode the bitstrings back to array\n",
    "decompressed_array= compressor.decode(bitstrings)\n",
    "decompressed_array.shape\n",
    "\n"
   ]
  },
  {
   "cell_type": "markdown",
   "metadata": {},
   "source": [
    "**Step 4. Check the efficiency metrics.**\n",
    "\n",
    "|Metric| Unit| Explanation|\n",
    "|---|---|---|\n",
    "|Compression Ratio| >1 | Higher values mean better compression. Ratio of original size to compressed size|\n",
    "|Encoding Speed |(MB/s)| Speed of compression in megabytes per second|\n",
    "|Decoding Speed| (MB/s)| Speed of decompression in megabytes per second|\n",
    " |Bitrate |(bits/byte)| Number of bits needed to represent each byte of original data after compression|\n"
   ]
  },
  {
   "cell_type": "code",
   "execution_count": 6,
   "metadata": {},
   "outputs": [
    {
     "data": {
      "text/plain": [
       "{'encoding_speed': 33.65233617532337,\n",
       " 'compression_ratio': 765000.0,\n",
       " 'original_bits': 26010000,\n",
       " 'decoding_speed': 4.0303783843694816e-05}"
      ]
     },
     "execution_count": 6,
     "metadata": {},
     "output_type": "execute_result"
    }
   ],
   "source": [
    "compressor.efficiency_metrics "
   ]
  },
  {
   "cell_type": "markdown",
   "metadata": {},
   "source": [
    "## 2. Compress the Xarray\n"
   ]
  },
  {
   "cell_type": "code",
   "execution_count": 7,
   "metadata": {},
   "outputs": [
    {
     "name": "stdout",
     "output_type": "stream",
     "text": [
      "Dataset wrf_short already exists at ./datasets/wrf_short.nc, reloaded\n"
     ]
    },
    {
     "data": {
      "text/html": [
       "<div><svg style=\"position: absolute; width: 0; height: 0; overflow: hidden\">\n",
       "<defs>\n",
       "<symbol id=\"icon-database\" viewBox=\"0 0 32 32\">\n",
       "<path d=\"M16 0c-8.837 0-16 2.239-16 5v4c0 2.761 7.163 5 16 5s16-2.239 16-5v-4c0-2.761-7.163-5-16-5z\"></path>\n",
       "<path d=\"M16 17c-8.837 0-16-2.239-16-5v6c0 2.761 7.163 5 16 5s16-2.239 16-5v-6c0 2.761-7.163 5-16 5z\"></path>\n",
       "<path d=\"M16 26c-8.837 0-16-2.239-16-5v6c0 2.761 7.163 5 16 5s16-2.239 16-5v-6c0 2.761-7.163 5-16 5z\"></path>\n",
       "</symbol>\n",
       "<symbol id=\"icon-file-text2\" viewBox=\"0 0 32 32\">\n",
       "<path d=\"M28.681 7.159c-0.694-0.947-1.662-2.053-2.724-3.116s-2.169-2.030-3.116-2.724c-1.612-1.182-2.393-1.319-2.841-1.319h-15.5c-1.378 0-2.5 1.121-2.5 2.5v27c0 1.378 1.122 2.5 2.5 2.5h23c1.378 0 2.5-1.122 2.5-2.5v-19.5c0-0.448-0.137-1.23-1.319-2.841zM24.543 5.457c0.959 0.959 1.712 1.825 2.268 2.543h-4.811v-4.811c0.718 0.556 1.584 1.309 2.543 2.268zM28 29.5c0 0.271-0.229 0.5-0.5 0.5h-23c-0.271 0-0.5-0.229-0.5-0.5v-27c0-0.271 0.229-0.5 0.5-0.5 0 0 15.499-0 15.5 0v7c0 0.552 0.448 1 1 1h7v19.5z\"></path>\n",
       "<path d=\"M23 26h-14c-0.552 0-1-0.448-1-1s0.448-1 1-1h14c0.552 0 1 0.448 1 1s-0.448 1-1 1z\"></path>\n",
       "<path d=\"M23 22h-14c-0.552 0-1-0.448-1-1s0.448-1 1-1h14c0.552 0 1 0.448 1 1s-0.448 1-1 1z\"></path>\n",
       "<path d=\"M23 18h-14c-0.552 0-1-0.448-1-1s0.448-1 1-1h14c0.552 0 1 0.448 1 1s-0.448 1-1 1z\"></path>\n",
       "</symbol>\n",
       "</defs>\n",
       "</svg>\n",
       "<style>/* CSS stylesheet for displaying xarray objects in jupyterlab.\n",
       " *\n",
       " */\n",
       "\n",
       ":root {\n",
       "  --xr-font-color0: var(--jp-content-font-color0, rgba(0, 0, 0, 1));\n",
       "  --xr-font-color2: var(--jp-content-font-color2, rgba(0, 0, 0, 0.54));\n",
       "  --xr-font-color3: var(--jp-content-font-color3, rgba(0, 0, 0, 0.38));\n",
       "  --xr-border-color: var(--jp-border-color2, #e0e0e0);\n",
       "  --xr-disabled-color: var(--jp-layout-color3, #bdbdbd);\n",
       "  --xr-background-color: var(--jp-layout-color0, white);\n",
       "  --xr-background-color-row-even: var(--jp-layout-color1, white);\n",
       "  --xr-background-color-row-odd: var(--jp-layout-color2, #eeeeee);\n",
       "}\n",
       "\n",
       "html[theme=dark],\n",
       "html[data-theme=dark],\n",
       "body[data-theme=dark],\n",
       "body.vscode-dark {\n",
       "  --xr-font-color0: rgba(255, 255, 255, 1);\n",
       "  --xr-font-color2: rgba(255, 255, 255, 0.54);\n",
       "  --xr-font-color3: rgba(255, 255, 255, 0.38);\n",
       "  --xr-border-color: #1F1F1F;\n",
       "  --xr-disabled-color: #515151;\n",
       "  --xr-background-color: #111111;\n",
       "  --xr-background-color-row-even: #111111;\n",
       "  --xr-background-color-row-odd: #313131;\n",
       "}\n",
       "\n",
       ".xr-wrap {\n",
       "  display: block !important;\n",
       "  min-width: 300px;\n",
       "  max-width: 700px;\n",
       "}\n",
       "\n",
       ".xr-text-repr-fallback {\n",
       "  /* fallback to plain text repr when CSS is not injected (untrusted notebook) */\n",
       "  display: none;\n",
       "}\n",
       "\n",
       ".xr-header {\n",
       "  padding-top: 6px;\n",
       "  padding-bottom: 6px;\n",
       "  margin-bottom: 4px;\n",
       "  border-bottom: solid 1px var(--xr-border-color);\n",
       "}\n",
       "\n",
       ".xr-header > div,\n",
       ".xr-header > ul {\n",
       "  display: inline;\n",
       "  margin-top: 0;\n",
       "  margin-bottom: 0;\n",
       "}\n",
       "\n",
       ".xr-obj-type,\n",
       ".xr-array-name {\n",
       "  margin-left: 2px;\n",
       "  margin-right: 10px;\n",
       "}\n",
       "\n",
       ".xr-obj-type {\n",
       "  color: var(--xr-font-color2);\n",
       "}\n",
       "\n",
       ".xr-sections {\n",
       "  padding-left: 0 !important;\n",
       "  display: grid;\n",
       "  grid-template-columns: 150px auto auto 1fr 0 20px 0 20px;\n",
       "}\n",
       "\n",
       ".xr-section-item {\n",
       "  display: contents;\n",
       "}\n",
       "\n",
       ".xr-section-item input {\n",
       "  display: inline-block;\n",
       "  opacity: 0;\n",
       "}\n",
       "\n",
       ".xr-section-item input + label {\n",
       "  color: var(--xr-disabled-color);\n",
       "}\n",
       "\n",
       ".xr-section-item input:enabled + label {\n",
       "  cursor: pointer;\n",
       "  color: var(--xr-font-color2);\n",
       "}\n",
       "\n",
       ".xr-section-item input:focus + label {\n",
       "  border: 2px solid var(--xr-font-color0);\n",
       "}\n",
       "\n",
       ".xr-section-item input:enabled + label:hover {\n",
       "  color: var(--xr-font-color0);\n",
       "}\n",
       "\n",
       ".xr-section-summary {\n",
       "  grid-column: 1;\n",
       "  color: var(--xr-font-color2);\n",
       "  font-weight: 500;\n",
       "}\n",
       "\n",
       ".xr-section-summary > span {\n",
       "  display: inline-block;\n",
       "  padding-left: 0.5em;\n",
       "}\n",
       "\n",
       ".xr-section-summary-in:disabled + label {\n",
       "  color: var(--xr-font-color2);\n",
       "}\n",
       "\n",
       ".xr-section-summary-in + label:before {\n",
       "  display: inline-block;\n",
       "  content: '►';\n",
       "  font-size: 11px;\n",
       "  width: 15px;\n",
       "  text-align: center;\n",
       "}\n",
       "\n",
       ".xr-section-summary-in:disabled + label:before {\n",
       "  color: var(--xr-disabled-color);\n",
       "}\n",
       "\n",
       ".xr-section-summary-in:checked + label:before {\n",
       "  content: '▼';\n",
       "}\n",
       "\n",
       ".xr-section-summary-in:checked + label > span {\n",
       "  display: none;\n",
       "}\n",
       "\n",
       ".xr-section-summary,\n",
       ".xr-section-inline-details {\n",
       "  padding-top: 4px;\n",
       "  padding-bottom: 4px;\n",
       "}\n",
       "\n",
       ".xr-section-inline-details {\n",
       "  grid-column: 2 / -1;\n",
       "}\n",
       "\n",
       ".xr-section-details {\n",
       "  display: none;\n",
       "  grid-column: 1 / -1;\n",
       "  margin-bottom: 5px;\n",
       "}\n",
       "\n",
       ".xr-section-summary-in:checked ~ .xr-section-details {\n",
       "  display: contents;\n",
       "}\n",
       "\n",
       ".xr-array-wrap {\n",
       "  grid-column: 1 / -1;\n",
       "  display: grid;\n",
       "  grid-template-columns: 20px auto;\n",
       "}\n",
       "\n",
       ".xr-array-wrap > label {\n",
       "  grid-column: 1;\n",
       "  vertical-align: top;\n",
       "}\n",
       "\n",
       ".xr-preview {\n",
       "  color: var(--xr-font-color3);\n",
       "}\n",
       "\n",
       ".xr-array-preview,\n",
       ".xr-array-data {\n",
       "  padding: 0 5px !important;\n",
       "  grid-column: 2;\n",
       "}\n",
       "\n",
       ".xr-array-data,\n",
       ".xr-array-in:checked ~ .xr-array-preview {\n",
       "  display: none;\n",
       "}\n",
       "\n",
       ".xr-array-in:checked ~ .xr-array-data,\n",
       ".xr-array-preview {\n",
       "  display: inline-block;\n",
       "}\n",
       "\n",
       ".xr-dim-list {\n",
       "  display: inline-block !important;\n",
       "  list-style: none;\n",
       "  padding: 0 !important;\n",
       "  margin: 0;\n",
       "}\n",
       "\n",
       ".xr-dim-list li {\n",
       "  display: inline-block;\n",
       "  padding: 0;\n",
       "  margin: 0;\n",
       "}\n",
       "\n",
       ".xr-dim-list:before {\n",
       "  content: '(';\n",
       "}\n",
       "\n",
       ".xr-dim-list:after {\n",
       "  content: ')';\n",
       "}\n",
       "\n",
       ".xr-dim-list li:not(:last-child):after {\n",
       "  content: ',';\n",
       "  padding-right: 5px;\n",
       "}\n",
       "\n",
       ".xr-has-index {\n",
       "  font-weight: bold;\n",
       "}\n",
       "\n",
       ".xr-var-list,\n",
       ".xr-var-item {\n",
       "  display: contents;\n",
       "}\n",
       "\n",
       ".xr-var-item > div,\n",
       ".xr-var-item label,\n",
       ".xr-var-item > .xr-var-name span {\n",
       "  background-color: var(--xr-background-color-row-even);\n",
       "  margin-bottom: 0;\n",
       "}\n",
       "\n",
       ".xr-var-item > .xr-var-name:hover span {\n",
       "  padding-right: 5px;\n",
       "}\n",
       "\n",
       ".xr-var-list > li:nth-child(odd) > div,\n",
       ".xr-var-list > li:nth-child(odd) > label,\n",
       ".xr-var-list > li:nth-child(odd) > .xr-var-name span {\n",
       "  background-color: var(--xr-background-color-row-odd);\n",
       "}\n",
       "\n",
       ".xr-var-name {\n",
       "  grid-column: 1;\n",
       "}\n",
       "\n",
       ".xr-var-dims {\n",
       "  grid-column: 2;\n",
       "}\n",
       "\n",
       ".xr-var-dtype {\n",
       "  grid-column: 3;\n",
       "  text-align: right;\n",
       "  color: var(--xr-font-color2);\n",
       "}\n",
       "\n",
       ".xr-var-preview {\n",
       "  grid-column: 4;\n",
       "}\n",
       "\n",
       ".xr-index-preview {\n",
       "  grid-column: 2 / 5;\n",
       "  color: var(--xr-font-color2);\n",
       "}\n",
       "\n",
       ".xr-var-name,\n",
       ".xr-var-dims,\n",
       ".xr-var-dtype,\n",
       ".xr-preview,\n",
       ".xr-attrs dt {\n",
       "  white-space: nowrap;\n",
       "  overflow: hidden;\n",
       "  text-overflow: ellipsis;\n",
       "  padding-right: 10px;\n",
       "}\n",
       "\n",
       ".xr-var-name:hover,\n",
       ".xr-var-dims:hover,\n",
       ".xr-var-dtype:hover,\n",
       ".xr-attrs dt:hover {\n",
       "  overflow: visible;\n",
       "  width: auto;\n",
       "  z-index: 1;\n",
       "}\n",
       "\n",
       ".xr-var-attrs,\n",
       ".xr-var-data,\n",
       ".xr-index-data {\n",
       "  display: none;\n",
       "  background-color: var(--xr-background-color) !important;\n",
       "  padding-bottom: 5px !important;\n",
       "}\n",
       "\n",
       ".xr-var-attrs-in:checked ~ .xr-var-attrs,\n",
       ".xr-var-data-in:checked ~ .xr-var-data,\n",
       ".xr-index-data-in:checked ~ .xr-index-data {\n",
       "  display: block;\n",
       "}\n",
       "\n",
       ".xr-var-data > table {\n",
       "  float: right;\n",
       "}\n",
       "\n",
       ".xr-var-name span,\n",
       ".xr-var-data,\n",
       ".xr-index-name div,\n",
       ".xr-index-data,\n",
       ".xr-attrs {\n",
       "  padding-left: 25px !important;\n",
       "}\n",
       "\n",
       ".xr-attrs,\n",
       ".xr-var-attrs,\n",
       ".xr-var-data,\n",
       ".xr-index-data {\n",
       "  grid-column: 1 / -1;\n",
       "}\n",
       "\n",
       "dl.xr-attrs {\n",
       "  padding: 0;\n",
       "  margin: 0;\n",
       "  display: grid;\n",
       "  grid-template-columns: 125px auto;\n",
       "}\n",
       "\n",
       ".xr-attrs dt,\n",
       ".xr-attrs dd {\n",
       "  padding: 0;\n",
       "  margin: 0;\n",
       "  float: left;\n",
       "  padding-right: 10px;\n",
       "  width: auto;\n",
       "}\n",
       "\n",
       ".xr-attrs dt {\n",
       "  font-weight: normal;\n",
       "  grid-column: 1;\n",
       "}\n",
       "\n",
       ".xr-attrs dt:hover span {\n",
       "  display: inline-block;\n",
       "  background: var(--xr-background-color);\n",
       "  padding-right: 10px;\n",
       "}\n",
       "\n",
       ".xr-attrs dd {\n",
       "  grid-column: 2;\n",
       "  white-space: pre-wrap;\n",
       "  word-break: break-all;\n",
       "}\n",
       "\n",
       ".xr-icon-database,\n",
       ".xr-icon-file-text2,\n",
       ".xr-no-icon {\n",
       "  display: inline-block;\n",
       "  vertical-align: middle;\n",
       "  width: 1em;\n",
       "  height: 1.5em !important;\n",
       "  stroke-width: 0;\n",
       "  stroke: currentColor;\n",
       "  fill: currentColor;\n",
       "}\n",
       "</style><pre class='xr-text-repr-fallback'>&lt;xarray.Dataset&gt; Size: 103MB\n",
       "Dimensions:    (time: 21, latitude: 335, longitude: 525)\n",
       "Coordinates:\n",
       "  * time       (time) datetime64[ns] 168B 2022-04-03T18:00:00 ... 2022-04-03T...\n",
       "  * latitude   (latitude) float32 1kB 34.21 34.21 34.21 ... 34.66 34.66 34.66\n",
       "  * longitude  (longitude) float32 2kB -120.0 -120.0 -120.0 ... -119.2 -119.2\n",
       "Data variables:\n",
       "    T2         (time, latitude, longitude) float32 15MB ...\n",
       "    U10        (time, latitude, longitude) float32 15MB ...\n",
       "    V10        (time, latitude, longitude) float32 15MB ...\n",
       "    PSFC       (time, latitude, longitude) float32 15MB ...\n",
       "    LAI        (time, latitude, longitude) float32 15MB ...\n",
       "    ALBEDO     (time, latitude, longitude) float32 15MB ...\n",
       "    RAINC      (time, latitude, longitude) float32 15MB ...\n",
       "Attributes: (12/134)\n",
       "    TITLE:                            OUTPUT FROM WRF V4.4.1 MODEL\n",
       "    START_DATE:                      2022-04-03_18:00:00\n",
       "    SIMULATION_START_DATE:           2022-04-03_18:00:00\n",
       "    WEST-EAST_GRID_DIMENSION:        526\n",
       "    SOUTH-NORTH_GRID_DIMENSION:      336\n",
       "    BOTTOM-TOP_GRID_DIMENSION:       91\n",
       "    ...                              ...\n",
       "    ISLAKE:                          21\n",
       "    ISICE:                           15\n",
       "    ISURBAN:                         13\n",
       "    ISOILWATER:                      14\n",
       "    HYBRID_OPT:                      2\n",
       "    ETAC:                            0.2</pre><div class='xr-wrap' style='display:none'><div class='xr-header'><div class='xr-obj-type'>xarray.Dataset</div></div><ul class='xr-sections'><li class='xr-section-item'><input id='section-12eafaa9-20de-489b-aaeb-4d57b8829bf1' class='xr-section-summary-in' type='checkbox' disabled ><label for='section-12eafaa9-20de-489b-aaeb-4d57b8829bf1' class='xr-section-summary'  title='Expand/collapse section'>Dimensions:</label><div class='xr-section-inline-details'><ul class='xr-dim-list'><li><span class='xr-has-index'>time</span>: 21</li><li><span class='xr-has-index'>latitude</span>: 335</li><li><span class='xr-has-index'>longitude</span>: 525</li></ul></div><div class='xr-section-details'></div></li><li class='xr-section-item'><input id='section-50549ad8-cae5-42e8-a93e-b079f6c0b056' class='xr-section-summary-in' type='checkbox'  checked><label for='section-50549ad8-cae5-42e8-a93e-b079f6c0b056' class='xr-section-summary' >Coordinates: <span>(3)</span></label><div class='xr-section-inline-details'></div><div class='xr-section-details'><ul class='xr-var-list'><li class='xr-var-item'><div class='xr-var-name'><span class='xr-has-index'>time</span></div><div class='xr-var-dims'>(time)</div><div class='xr-var-dtype'>datetime64[ns]</div><div class='xr-var-preview xr-preview'>2022-04-03T18:00:00 ... 2022-04-...</div><input id='attrs-6fd64a65-2494-43b0-8628-c352a462b2b9' class='xr-var-attrs-in' type='checkbox' disabled><label for='attrs-6fd64a65-2494-43b0-8628-c352a462b2b9' title='Show/Hide attributes'><svg class='icon xr-icon-file-text2'><use xlink:href='#icon-file-text2'></use></svg></label><input id='data-3cdb602d-9552-4063-8ccb-b90da4bbfdaa' class='xr-var-data-in' type='checkbox'><label for='data-3cdb602d-9552-4063-8ccb-b90da4bbfdaa' title='Show/Hide data repr'><svg class='icon xr-icon-database'><use xlink:href='#icon-database'></use></svg></label><div class='xr-var-attrs'><dl class='xr-attrs'></dl></div><div class='xr-var-data'><pre>array([&#x27;2022-04-03T18:00:00.000000000&#x27;, &#x27;2022-04-03T18:05:00.000000000&#x27;,\n",
       "       &#x27;2022-04-03T18:10:00.000000000&#x27;, &#x27;2022-04-03T18:15:00.000000000&#x27;,\n",
       "       &#x27;2022-04-03T18:20:00.000000000&#x27;, &#x27;2022-04-03T18:25:00.000000000&#x27;,\n",
       "       &#x27;2022-04-03T18:30:00.000000000&#x27;, &#x27;2022-04-03T18:35:00.000000000&#x27;,\n",
       "       &#x27;2022-04-03T18:40:00.000000000&#x27;, &#x27;2022-04-03T18:45:00.000000000&#x27;,\n",
       "       &#x27;2022-04-03T18:50:00.000000000&#x27;, &#x27;2022-04-03T18:55:00.000000000&#x27;,\n",
       "       &#x27;2022-04-03T19:00:00.000000000&#x27;, &#x27;2022-04-03T19:05:00.000000000&#x27;,\n",
       "       &#x27;2022-04-03T19:10:00.000000000&#x27;, &#x27;2022-04-03T19:15:00.000000000&#x27;,\n",
       "       &#x27;2022-04-03T19:20:00.000000000&#x27;, &#x27;2022-04-03T19:25:00.000000000&#x27;,\n",
       "       &#x27;2022-04-03T19:30:00.000000000&#x27;, &#x27;2022-04-03T19:35:00.000000000&#x27;,\n",
       "       &#x27;2022-04-03T19:40:00.000000000&#x27;], dtype=&#x27;datetime64[ns]&#x27;)</pre></div></li><li class='xr-var-item'><div class='xr-var-name'><span class='xr-has-index'>latitude</span></div><div class='xr-var-dims'>(latitude)</div><div class='xr-var-dtype'>float32</div><div class='xr-var-preview xr-preview'>34.21 34.21 34.21 ... 34.66 34.66</div><input id='attrs-13ad3c36-dc03-4486-8838-0513606bfc26' class='xr-var-attrs-in' type='checkbox' disabled><label for='attrs-13ad3c36-dc03-4486-8838-0513606bfc26' title='Show/Hide attributes'><svg class='icon xr-icon-file-text2'><use xlink:href='#icon-file-text2'></use></svg></label><input id='data-822f442d-2565-4031-ade3-ee57cb31f6a5' class='xr-var-data-in' type='checkbox'><label for='data-822f442d-2565-4031-ade3-ee57cb31f6a5' title='Show/Hide data repr'><svg class='icon xr-icon-database'><use xlink:href='#icon-database'></use></svg></label><div class='xr-var-attrs'><dl class='xr-attrs'></dl></div><div class='xr-var-data'><pre>array([34.21206 , 34.213398, 34.214752, ..., 34.659985, 34.661335, 34.662674],\n",
       "      dtype=float32)</pre></div></li><li class='xr-var-item'><div class='xr-var-name'><span class='xr-has-index'>longitude</span></div><div class='xr-var-dims'>(longitude)</div><div class='xr-var-dtype'>float32</div><div class='xr-var-preview xr-preview'>-120.0 -120.0 ... -119.2 -119.2</div><input id='attrs-d020abaa-97c0-471a-956f-66b075a32c28' class='xr-var-attrs-in' type='checkbox' disabled><label for='attrs-d020abaa-97c0-471a-956f-66b075a32c28' title='Show/Hide attributes'><svg class='icon xr-icon-file-text2'><use xlink:href='#icon-file-text2'></use></svg></label><input id='data-a0868055-9031-4464-90c6-d22fe88da1f4' class='xr-var-data-in' type='checkbox'><label for='data-a0868055-9031-4464-90c6-d22fe88da1f4' title='Show/Hide data repr'><svg class='icon xr-icon-database'><use xlink:href='#icon-database'></use></svg></label><div class='xr-var-attrs'><dl class='xr-attrs'></dl></div><div class='xr-var-data'><pre>array([-120.02783 , -120.026184, -120.02457 , ..., -119.17618 , -119.174545,\n",
       "       -119.17291 ], dtype=float32)</pre></div></li></ul></div></li><li class='xr-section-item'><input id='section-8fd2a8f1-0a8d-4e0d-a9f8-96df145ae89a' class='xr-section-summary-in' type='checkbox'  checked><label for='section-8fd2a8f1-0a8d-4e0d-a9f8-96df145ae89a' class='xr-section-summary' >Data variables: <span>(7)</span></label><div class='xr-section-inline-details'></div><div class='xr-section-details'><ul class='xr-var-list'><li class='xr-var-item'><div class='xr-var-name'><span>T2</span></div><div class='xr-var-dims'>(time, latitude, longitude)</div><div class='xr-var-dtype'>float32</div><div class='xr-var-preview xr-preview'>...</div><input id='attrs-2b344397-6038-451b-88be-1d1ad809fc68' class='xr-var-attrs-in' type='checkbox' ><label for='attrs-2b344397-6038-451b-88be-1d1ad809fc68' title='Show/Hide attributes'><svg class='icon xr-icon-file-text2'><use xlink:href='#icon-file-text2'></use></svg></label><input id='data-95a24cb9-6492-4c13-960b-8861f36989b4' class='xr-var-data-in' type='checkbox'><label for='data-95a24cb9-6492-4c13-960b-8861f36989b4' title='Show/Hide data repr'><svg class='icon xr-icon-database'><use xlink:href='#icon-database'></use></svg></label><div class='xr-var-attrs'><dl class='xr-attrs'><dt><span>FieldType :</span></dt><dd>104</dd><dt><span>MemoryOrder :</span></dt><dd>XY </dd><dt><span>description :</span></dt><dd>TEMP at 2 M</dd><dt><span>units :</span></dt><dd>K</dd><dt><span>stagger :</span></dt><dd></dd></dl></div><div class='xr-var-data'><pre>[3693375 values with dtype=float32]</pre></div></li><li class='xr-var-item'><div class='xr-var-name'><span>U10</span></div><div class='xr-var-dims'>(time, latitude, longitude)</div><div class='xr-var-dtype'>float32</div><div class='xr-var-preview xr-preview'>...</div><input id='attrs-5e7b1fa5-ff78-4194-8279-8bb03734cd62' class='xr-var-attrs-in' type='checkbox' ><label for='attrs-5e7b1fa5-ff78-4194-8279-8bb03734cd62' title='Show/Hide attributes'><svg class='icon xr-icon-file-text2'><use xlink:href='#icon-file-text2'></use></svg></label><input id='data-221db64f-7f91-43c0-aa89-e11371c6a3d1' class='xr-var-data-in' type='checkbox'><label for='data-221db64f-7f91-43c0-aa89-e11371c6a3d1' title='Show/Hide data repr'><svg class='icon xr-icon-database'><use xlink:href='#icon-database'></use></svg></label><div class='xr-var-attrs'><dl class='xr-attrs'><dt><span>FieldType :</span></dt><dd>104</dd><dt><span>MemoryOrder :</span></dt><dd>XY </dd><dt><span>description :</span></dt><dd>U at 10 M</dd><dt><span>units :</span></dt><dd>m s-1</dd><dt><span>stagger :</span></dt><dd></dd></dl></div><div class='xr-var-data'><pre>[3693375 values with dtype=float32]</pre></div></li><li class='xr-var-item'><div class='xr-var-name'><span>V10</span></div><div class='xr-var-dims'>(time, latitude, longitude)</div><div class='xr-var-dtype'>float32</div><div class='xr-var-preview xr-preview'>...</div><input id='attrs-7b9089ca-b0c8-4057-8a14-bcc00962cb67' class='xr-var-attrs-in' type='checkbox' ><label for='attrs-7b9089ca-b0c8-4057-8a14-bcc00962cb67' title='Show/Hide attributes'><svg class='icon xr-icon-file-text2'><use xlink:href='#icon-file-text2'></use></svg></label><input id='data-dae0e46a-1a57-4fd6-bc10-3af38ea10283' class='xr-var-data-in' type='checkbox'><label for='data-dae0e46a-1a57-4fd6-bc10-3af38ea10283' title='Show/Hide data repr'><svg class='icon xr-icon-database'><use xlink:href='#icon-database'></use></svg></label><div class='xr-var-attrs'><dl class='xr-attrs'><dt><span>FieldType :</span></dt><dd>104</dd><dt><span>MemoryOrder :</span></dt><dd>XY </dd><dt><span>description :</span></dt><dd>V at 10 M</dd><dt><span>units :</span></dt><dd>m s-1</dd><dt><span>stagger :</span></dt><dd></dd></dl></div><div class='xr-var-data'><pre>[3693375 values with dtype=float32]</pre></div></li><li class='xr-var-item'><div class='xr-var-name'><span>PSFC</span></div><div class='xr-var-dims'>(time, latitude, longitude)</div><div class='xr-var-dtype'>float32</div><div class='xr-var-preview xr-preview'>...</div><input id='attrs-0c56efea-730e-4f68-b66b-b0d860fbc45f' class='xr-var-attrs-in' type='checkbox' ><label for='attrs-0c56efea-730e-4f68-b66b-b0d860fbc45f' title='Show/Hide attributes'><svg class='icon xr-icon-file-text2'><use xlink:href='#icon-file-text2'></use></svg></label><input id='data-7a99c0ee-f573-4a86-952a-20b6ad58616a' class='xr-var-data-in' type='checkbox'><label for='data-7a99c0ee-f573-4a86-952a-20b6ad58616a' title='Show/Hide data repr'><svg class='icon xr-icon-database'><use xlink:href='#icon-database'></use></svg></label><div class='xr-var-attrs'><dl class='xr-attrs'><dt><span>FieldType :</span></dt><dd>104</dd><dt><span>MemoryOrder :</span></dt><dd>XY </dd><dt><span>description :</span></dt><dd>SFC PRESSURE</dd><dt><span>units :</span></dt><dd>Pa</dd><dt><span>stagger :</span></dt><dd></dd></dl></div><div class='xr-var-data'><pre>[3693375 values with dtype=float32]</pre></div></li><li class='xr-var-item'><div class='xr-var-name'><span>LAI</span></div><div class='xr-var-dims'>(time, latitude, longitude)</div><div class='xr-var-dtype'>float32</div><div class='xr-var-preview xr-preview'>...</div><input id='attrs-16b35913-5cbe-4011-b8d2-c941feede8f9' class='xr-var-attrs-in' type='checkbox' ><label for='attrs-16b35913-5cbe-4011-b8d2-c941feede8f9' title='Show/Hide attributes'><svg class='icon xr-icon-file-text2'><use xlink:href='#icon-file-text2'></use></svg></label><input id='data-b58eeec5-d9ef-4294-adb5-b2ce22536e35' class='xr-var-data-in' type='checkbox'><label for='data-b58eeec5-d9ef-4294-adb5-b2ce22536e35' title='Show/Hide data repr'><svg class='icon xr-icon-database'><use xlink:href='#icon-database'></use></svg></label><div class='xr-var-attrs'><dl class='xr-attrs'><dt><span>FieldType :</span></dt><dd>104</dd><dt><span>MemoryOrder :</span></dt><dd>XY </dd><dt><span>description :</span></dt><dd>LEAF AREA INDEX</dd><dt><span>units :</span></dt><dd>m-2/m-2</dd><dt><span>stagger :</span></dt><dd></dd></dl></div><div class='xr-var-data'><pre>[3693375 values with dtype=float32]</pre></div></li><li class='xr-var-item'><div class='xr-var-name'><span>ALBEDO</span></div><div class='xr-var-dims'>(time, latitude, longitude)</div><div class='xr-var-dtype'>float32</div><div class='xr-var-preview xr-preview'>...</div><input id='attrs-61ca5450-6fa7-402c-98e0-9855e968925c' class='xr-var-attrs-in' type='checkbox' ><label for='attrs-61ca5450-6fa7-402c-98e0-9855e968925c' title='Show/Hide attributes'><svg class='icon xr-icon-file-text2'><use xlink:href='#icon-file-text2'></use></svg></label><input id='data-91209f0f-a53a-4749-ac62-cb70a02820dd' class='xr-var-data-in' type='checkbox'><label for='data-91209f0f-a53a-4749-ac62-cb70a02820dd' title='Show/Hide data repr'><svg class='icon xr-icon-database'><use xlink:href='#icon-database'></use></svg></label><div class='xr-var-attrs'><dl class='xr-attrs'><dt><span>FieldType :</span></dt><dd>104</dd><dt><span>MemoryOrder :</span></dt><dd>XY </dd><dt><span>description :</span></dt><dd>ALBEDO</dd><dt><span>units :</span></dt><dd>-</dd><dt><span>stagger :</span></dt><dd></dd></dl></div><div class='xr-var-data'><pre>[3693375 values with dtype=float32]</pre></div></li><li class='xr-var-item'><div class='xr-var-name'><span>RAINC</span></div><div class='xr-var-dims'>(time, latitude, longitude)</div><div class='xr-var-dtype'>float32</div><div class='xr-var-preview xr-preview'>...</div><input id='attrs-175a7717-7ad9-4556-b5cf-ec98c7e5d4ad' class='xr-var-attrs-in' type='checkbox' ><label for='attrs-175a7717-7ad9-4556-b5cf-ec98c7e5d4ad' title='Show/Hide attributes'><svg class='icon xr-icon-file-text2'><use xlink:href='#icon-file-text2'></use></svg></label><input id='data-88cbfd2a-066d-49dc-a7f6-503a0fe5361d' class='xr-var-data-in' type='checkbox'><label for='data-88cbfd2a-066d-49dc-a7f6-503a0fe5361d' title='Show/Hide data repr'><svg class='icon xr-icon-database'><use xlink:href='#icon-database'></use></svg></label><div class='xr-var-attrs'><dl class='xr-attrs'><dt><span>FieldType :</span></dt><dd>104</dd><dt><span>MemoryOrder :</span></dt><dd>XY </dd><dt><span>description :</span></dt><dd>ACCUMULATED TOTAL CUMULUS PRECIPITATION</dd><dt><span>units :</span></dt><dd>mm</dd><dt><span>stagger :</span></dt><dd></dd></dl></div><div class='xr-var-data'><pre>[3693375 values with dtype=float32]</pre></div></li></ul></div></li><li class='xr-section-item'><input id='section-adb7f17e-69aa-4ac0-8a47-84dc103a5b87' class='xr-section-summary-in' type='checkbox'  ><label for='section-adb7f17e-69aa-4ac0-8a47-84dc103a5b87' class='xr-section-summary' >Indexes: <span>(3)</span></label><div class='xr-section-inline-details'></div><div class='xr-section-details'><ul class='xr-var-list'><li class='xr-var-item'><div class='xr-index-name'><div>time</div></div><div class='xr-index-preview'>PandasIndex</div><div></div><input id='index-a12944a6-deba-4ad4-8d6b-6376017ac1bc' class='xr-index-data-in' type='checkbox'/><label for='index-a12944a6-deba-4ad4-8d6b-6376017ac1bc' title='Show/Hide index repr'><svg class='icon xr-icon-database'><use xlink:href='#icon-database'></use></svg></label><div class='xr-index-data'><pre>PandasIndex(DatetimeIndex([&#x27;2022-04-03 18:00:00&#x27;, &#x27;2022-04-03 18:05:00&#x27;,\n",
       "               &#x27;2022-04-03 18:10:00&#x27;, &#x27;2022-04-03 18:15:00&#x27;,\n",
       "               &#x27;2022-04-03 18:20:00&#x27;, &#x27;2022-04-03 18:25:00&#x27;,\n",
       "               &#x27;2022-04-03 18:30:00&#x27;, &#x27;2022-04-03 18:35:00&#x27;,\n",
       "               &#x27;2022-04-03 18:40:00&#x27;, &#x27;2022-04-03 18:45:00&#x27;,\n",
       "               &#x27;2022-04-03 18:50:00&#x27;, &#x27;2022-04-03 18:55:00&#x27;,\n",
       "               &#x27;2022-04-03 19:00:00&#x27;, &#x27;2022-04-03 19:05:00&#x27;,\n",
       "               &#x27;2022-04-03 19:10:00&#x27;, &#x27;2022-04-03 19:15:00&#x27;,\n",
       "               &#x27;2022-04-03 19:20:00&#x27;, &#x27;2022-04-03 19:25:00&#x27;,\n",
       "               &#x27;2022-04-03 19:30:00&#x27;, &#x27;2022-04-03 19:35:00&#x27;,\n",
       "               &#x27;2022-04-03 19:40:00&#x27;],\n",
       "              dtype=&#x27;datetime64[ns]&#x27;, name=&#x27;time&#x27;, freq=None))</pre></div></li><li class='xr-var-item'><div class='xr-index-name'><div>latitude</div></div><div class='xr-index-preview'>PandasIndex</div><div></div><input id='index-fc1f1682-a729-428b-84e8-91a946986d17' class='xr-index-data-in' type='checkbox'/><label for='index-fc1f1682-a729-428b-84e8-91a946986d17' title='Show/Hide index repr'><svg class='icon xr-icon-database'><use xlink:href='#icon-database'></use></svg></label><div class='xr-index-data'><pre>PandasIndex(Index([34.212059020996094,  34.21339797973633, 34.214752197265625,\n",
       "       34.216094970703125,  34.21745300292969,  34.21879959106445,\n",
       "        34.22015380859375, 34.221500396728516,  34.22285842895508,\n",
       "        34.22419738769531,\n",
       "       ...\n",
       "       34.650535583496094,  34.65188980102539, 34.653236389160156,\n",
       "        34.65459442138672, 34.655941009521484, 34.657283782958984,\n",
       "        34.65864181518555,  34.65998458862305,  34.66133499145508,\n",
       "        34.66267395019531],\n",
       "      dtype=&#x27;float32&#x27;, name=&#x27;latitude&#x27;, length=335))</pre></div></li><li class='xr-var-item'><div class='xr-index-name'><div>longitude</div></div><div class='xr-index-preview'>PandasIndex</div><div></div><input id='index-3eec477e-98a2-41fc-906d-e6d1101bd551' class='xr-index-data-in' type='checkbox'/><label for='index-3eec477e-98a2-41fc-906d-e6d1101bd551' title='Show/Hide index repr'><svg class='icon xr-icon-database'><use xlink:href='#icon-database'></use></svg></label><div class='xr-index-data'><pre>PandasIndex(Index([   -120.02783203125, -120.02618408203125, -120.02456665039062,\n",
       "       -120.02291870117188, -120.02130126953125,  -120.0196533203125,\n",
       "       -120.01803588867188, -120.01640319824219,  -120.0147705078125,\n",
       "       -120.01313781738281,\n",
       "       ...\n",
       "       -119.18759155273438, -119.18597412109375, -119.18434143066406,\n",
       "       -119.18270874023438, -119.18107604980469,   -119.179443359375,\n",
       "       -119.17781066894531, -119.17617797851562, -119.17454528808594,\n",
       "       -119.17291259765625],\n",
       "      dtype=&#x27;float32&#x27;, name=&#x27;longitude&#x27;, length=525))</pre></div></li></ul></div></li><li class='xr-section-item'><input id='section-0c5070ee-c593-43cc-9b48-0697800b0136' class='xr-section-summary-in' type='checkbox'  ><label for='section-0c5070ee-c593-43cc-9b48-0697800b0136' class='xr-section-summary' >Attributes: <span>(134)</span></label><div class='xr-section-inline-details'></div><div class='xr-section-details'><dl class='xr-attrs'><dt><span>TITLE :</span></dt><dd> OUTPUT FROM WRF V4.4.1 MODEL</dd><dt><span>START_DATE :</span></dt><dd>2022-04-03_18:00:00</dd><dt><span>SIMULATION_START_DATE :</span></dt><dd>2022-04-03_18:00:00</dd><dt><span>WEST-EAST_GRID_DIMENSION :</span></dt><dd>526</dd><dt><span>SOUTH-NORTH_GRID_DIMENSION :</span></dt><dd>336</dd><dt><span>BOTTOM-TOP_GRID_DIMENSION :</span></dt><dd>91</dd><dt><span>DX :</span></dt><dd>150.0</dd><dt><span>DY :</span></dt><dd>150.0</dd><dt><span>AERCU_OPT :</span></dt><dd>0</dd><dt><span>AERCU_FCT :</span></dt><dd>1.0</dd><dt><span>IDEAL_CASE :</span></dt><dd>0</dd><dt><span>DIFF_6TH_SLOPEOPT :</span></dt><dd>0</dd><dt><span>AUTO_LEVELS_OPT :</span></dt><dd>2</dd><dt><span>DIFF_6TH_THRESH :</span></dt><dd>0.1</dd><dt><span>DZBOT :</span></dt><dd>50.0</dd><dt><span>DZSTRETCH_S :</span></dt><dd>1.3</dd><dt><span>DZSTRETCH_U :</span></dt><dd>1.1</dd><dt><span>SKEBS_ON :</span></dt><dd>0</dd><dt><span>USE_Q_DIABATIC :</span></dt><dd>0</dd><dt><span>GRIDTYPE :</span></dt><dd>C</dd><dt><span>DIFF_OPT :</span></dt><dd>2</dd><dt><span>KM_OPT :</span></dt><dd>2</dd><dt><span>DAMP_OPT :</span></dt><dd>3</dd><dt><span>DAMPCOEF :</span></dt><dd>0.4</dd><dt><span>KHDIF :</span></dt><dd>0.0</dd><dt><span>KVDIF :</span></dt><dd>0.0</dd><dt><span>MP_PHYSICS :</span></dt><dd>8</dd><dt><span>RA_LW_PHYSICS :</span></dt><dd>1</dd><dt><span>RA_SW_PHYSICS :</span></dt><dd>1</dd><dt><span>SF_SFCLAY_PHYSICS :</span></dt><dd>1</dd><dt><span>SF_SURFACE_PHYSICS :</span></dt><dd>2</dd><dt><span>BL_PBL_PHYSICS :</span></dt><dd>0</dd><dt><span>CU_PHYSICS :</span></dt><dd>0</dd><dt><span>SF_LAKE_PHYSICS :</span></dt><dd>0</dd><dt><span>SURFACE_INPUT_SOURCE :</span></dt><dd>3</dd><dt><span>SST_UPDATE :</span></dt><dd>0</dd><dt><span>GHG_INPUT :</span></dt><dd>1</dd><dt><span>GRID_FDDA :</span></dt><dd>0</dd><dt><span>GFDDA_INTERVAL_M :</span></dt><dd>0</dd><dt><span>GFDDA_END_H :</span></dt><dd>0</dd><dt><span>GRID_SFDDA :</span></dt><dd>0</dd><dt><span>SGFDDA_INTERVAL_M :</span></dt><dd>0</dd><dt><span>SGFDDA_END_H :</span></dt><dd>0</dd><dt><span>HYPSOMETRIC_OPT :</span></dt><dd>2</dd><dt><span>USE_THETA_M :</span></dt><dd>1</dd><dt><span>GWD_OPT :</span></dt><dd>1</dd><dt><span>SF_URBAN_PHYSICS :</span></dt><dd>0</dd><dt><span>SF_SURFACE_MOSAIC :</span></dt><dd>0</dd><dt><span>SF_OCEAN_PHYSICS :</span></dt><dd>0</dd><dt><span>SHCU_PHYSICS :</span></dt><dd>0</dd><dt><span>MFSHCONV :</span></dt><dd>0</dd><dt><span>FEEDBACK :</span></dt><dd>0</dd><dt><span>SMOOTH_OPTION :</span></dt><dd>2</dd><dt><span>SWRAD_SCAT :</span></dt><dd>1.0</dd><dt><span>W_DAMPING :</span></dt><dd>1</dd><dt><span>DT :</span></dt><dd>1.0</dd><dt><span>RADT :</span></dt><dd>1.0</dd><dt><span>BLDT :</span></dt><dd>0.0</dd><dt><span>CUDT :</span></dt><dd>0.0</dd><dt><span>AER_OPT :</span></dt><dd>0</dd><dt><span>SWINT_OPT :</span></dt><dd>0</dd><dt><span>AER_TYPE :</span></dt><dd>1</dd><dt><span>AER_AOD550_OPT :</span></dt><dd>1</dd><dt><span>AER_ANGEXP_OPT :</span></dt><dd>1</dd><dt><span>AER_SSA_OPT :</span></dt><dd>1</dd><dt><span>AER_ASY_OPT :</span></dt><dd>1</dd><dt><span>AER_AOD550_VAL :</span></dt><dd>0.12</dd><dt><span>AER_ANGEXP_VAL :</span></dt><dd>1.3</dd><dt><span>AER_SSA_VAL :</span></dt><dd>0.85</dd><dt><span>AER_ASY_VAL :</span></dt><dd>0.9</dd><dt><span>MOIST_ADV_OPT :</span></dt><dd>1</dd><dt><span>SCALAR_ADV_OPT :</span></dt><dd>1</dd><dt><span>TKE_ADV_OPT :</span></dt><dd>1</dd><dt><span>DIFF_6TH_OPT :</span></dt><dd>2</dd><dt><span>DIFF_6TH_FACTOR :</span></dt><dd>0.3</dd><dt><span>OBS_NUDGE_OPT :</span></dt><dd>0</dd><dt><span>BUCKET_MM :</span></dt><dd>-1.0</dd><dt><span>BUCKET_J :</span></dt><dd>-1.0</dd><dt><span>PREC_ACC_DT :</span></dt><dd>0.0</dd><dt><span>ISFTCFLX :</span></dt><dd>0</dd><dt><span>ISHALLOW :</span></dt><dd>0</dd><dt><span>ISFFLX :</span></dt><dd>1</dd><dt><span>ICLOUD :</span></dt><dd>1</dd><dt><span>ICLOUD_CU :</span></dt><dd>0</dd><dt><span>TRACER_PBLMIX :</span></dt><dd>1</dd><dt><span>SCALAR_PBLMIX :</span></dt><dd>0</dd><dt><span>YSU_TOPDOWN_PBLMIX :</span></dt><dd>1</dd><dt><span>GRAV_SETTLING :</span></dt><dd>0</dd><dt><span>CLDOVRLP :</span></dt><dd>2</dd><dt><span>IDCOR :</span></dt><dd>0</dd><dt><span>DFI_OPT :</span></dt><dd>0</dd><dt><span>NTASKS_X :</span></dt><dd>15</dd><dt><span>NTASKS_Y :</span></dt><dd>16</dd><dt><span>NTASKS_TOTAL :</span></dt><dd>240</dd><dt><span>SIMULATION_INITIALIZATION_TYPE :</span></dt><dd>REAL-DATA CASE</dd><dt><span>WEST-EAST_PATCH_START_UNSTAG :</span></dt><dd>1</dd><dt><span>WEST-EAST_PATCH_END_UNSTAG :</span></dt><dd>525</dd><dt><span>WEST-EAST_PATCH_START_STAG :</span></dt><dd>1</dd><dt><span>WEST-EAST_PATCH_END_STAG :</span></dt><dd>526</dd><dt><span>SOUTH-NORTH_PATCH_START_UNSTAG :</span></dt><dd>1</dd><dt><span>SOUTH-NORTH_PATCH_END_UNSTAG :</span></dt><dd>335</dd><dt><span>SOUTH-NORTH_PATCH_START_STAG :</span></dt><dd>1</dd><dt><span>SOUTH-NORTH_PATCH_END_STAG :</span></dt><dd>336</dd><dt><span>BOTTOM-TOP_PATCH_START_UNSTAG :</span></dt><dd>1</dd><dt><span>BOTTOM-TOP_PATCH_END_UNSTAG :</span></dt><dd>90</dd><dt><span>BOTTOM-TOP_PATCH_START_STAG :</span></dt><dd>1</dd><dt><span>BOTTOM-TOP_PATCH_END_STAG :</span></dt><dd>91</dd><dt><span>GRID_ID :</span></dt><dd>4</dd><dt><span>PARENT_ID :</span></dt><dd>3</dd><dt><span>I_PARENT_START :</span></dt><dd>35</dd><dt><span>J_PARENT_START :</span></dt><dd>25</dd><dt><span>PARENT_GRID_RATIO :</span></dt><dd>5</dd><dt><span>CEN_LAT :</span></dt><dd>34.438004</dd><dt><span>CEN_LON :</span></dt><dd>-119.60028</dd><dt><span>TRUELAT1 :</span></dt><dd>34.438</dd><dt><span>TRUELAT2 :</span></dt><dd>34.438</dd><dt><span>MOAD_CEN_LAT :</span></dt><dd>34.438004</dd><dt><span>STAND_LON :</span></dt><dd>-119.633</dd><dt><span>POLE_LAT :</span></dt><dd>90.0</dd><dt><span>POLE_LON :</span></dt><dd>0.0</dd><dt><span>GMT :</span></dt><dd>18.0</dd><dt><span>JULYR :</span></dt><dd>2022</dd><dt><span>JULDAY :</span></dt><dd>93</dd><dt><span>MAP_PROJ :</span></dt><dd>1</dd><dt><span>MAP_PROJ_CHAR :</span></dt><dd>Lambert Conformal</dd><dt><span>MMINLU :</span></dt><dd>MODIFIED_IGBP_MODIS_NOAH</dd><dt><span>NUM_LAND_CAT :</span></dt><dd>21</dd><dt><span>ISWATER :</span></dt><dd>17</dd><dt><span>ISLAKE :</span></dt><dd>21</dd><dt><span>ISICE :</span></dt><dd>15</dd><dt><span>ISURBAN :</span></dt><dd>13</dd><dt><span>ISOILWATER :</span></dt><dd>14</dd><dt><span>HYBRID_OPT :</span></dt><dd>2</dd><dt><span>ETAC :</span></dt><dd>0.2</dd></dl></div></li></ul></div></div>"
      ],
      "text/plain": [
       "<xarray.Dataset> Size: 103MB\n",
       "Dimensions:    (time: 21, latitude: 335, longitude: 525)\n",
       "Coordinates:\n",
       "  * time       (time) datetime64[ns] 168B 2022-04-03T18:00:00 ... 2022-04-03T...\n",
       "  * latitude   (latitude) float32 1kB 34.21 34.21 34.21 ... 34.66 34.66 34.66\n",
       "  * longitude  (longitude) float32 2kB -120.0 -120.0 -120.0 ... -119.2 -119.2\n",
       "Data variables:\n",
       "    T2         (time, latitude, longitude) float32 15MB ...\n",
       "    U10        (time, latitude, longitude) float32 15MB ...\n",
       "    V10        (time, latitude, longitude) float32 15MB ...\n",
       "    PSFC       (time, latitude, longitude) float32 15MB ...\n",
       "    LAI        (time, latitude, longitude) float32 15MB ...\n",
       "    ALBEDO     (time, latitude, longitude) float32 15MB ...\n",
       "    RAINC      (time, latitude, longitude) float32 15MB ...\n",
       "Attributes: (12/134)\n",
       "    TITLE:                            OUTPUT FROM WRF V4.4.1 MODEL\n",
       "    START_DATE:                      2022-04-03_18:00:00\n",
       "    SIMULATION_START_DATE:           2022-04-03_18:00:00\n",
       "    WEST-EAST_GRID_DIMENSION:        526\n",
       "    SOUTH-NORTH_GRID_DIMENSION:      336\n",
       "    BOTTOM-TOP_GRID_DIMENSION:       91\n",
       "    ...                              ...\n",
       "    ISLAKE:                          21\n",
       "    ISICE:                           15\n",
       "    ISURBAN:                         13\n",
       "    ISOILWATER:                      14\n",
       "    HYBRID_OPT:                      2\n",
       "    ETAC:                            0.2"
      ]
     },
     "execution_count": 7,
     "metadata": {},
     "output_type": "execute_result"
    }
   ],
   "source": [
    "import xarray as xr\n",
    "\n",
    "# Load a example Xarray dataset.\n",
    "example_ds=sc.dataset.download_benchmark(\"wrf_short\")\n",
    "example_ds"
   ]
  },
  {
   "cell_type": "markdown",
   "metadata": {},
   "source": [
    "\n",
    "\n",
    "**Step 1. Create Encoding Dictionary**\n",
    "The compressor can be initialized with different modes and parameters for different variables:\n",
    "\n",
    "- compressor: Compression method ('SZ3', 'ZFPY', etc.)\n",
    "- abs_tol: Absolute error tolerance\n",
    "\n",
    "\n",
    "\n",
    "The encoding dictionary specifies compression parameters for each variable:\n",
    "```python\n",
    "encode_dict = {\n",
    "    \"var1\": {\"compressor\": \"SZ3\", \"abs_tol\": 1e-3},\n",
    "    \"var2\": {\"compressor\": \"ZFPY\", \"abs_tol\": 1e-4}\n",
    "}\n",
    "\n"
   ]
  },
  {
   "cell_type": "code",
   "execution_count": 8,
   "metadata": {},
   "outputs": [],
   "source": [
    "# Compress the Xarray dataset.\n",
    "encode_dict = {\n",
    "    \"T2\": {\"compressor\": \"zlib\", \"level\": 1},\n",
    "    'U10': {'compressor': \"fpzip\", 'rel_precision': 1e-4},\n",
    "    'V10': {'compressor': \"fpzip\", 'rel_precision': 1e-4},    \n",
    "    \"PSFC\": {\"compressor\": \"zlib\", \"level\": 1},\n",
    "    'LAI': {'compressor': \"fpzip\", 'rel_precision': 1e-4},\n",
    "    'ALBEDO': {'compressor': \"fpzip\", 'rel_precision': 1e-4},     \n",
    "    'RAINC': {'compressor': \"fpzip\", 'rel_precision': 1e-4},     \n",
    "}\n",
    "\n",
    "\n",
    "# Compress the Xarray dataset.\n",
    "encode_dict = {\n",
    "    \"T2\": {\"compressor\": \"zlib\", \"level\": 1},\n",
    "    'U10': {'compressor': \"sz3\", 'abs_precision': 1},\n",
    "    'V10': {'compressor': \"bmshj2018_factorized\", 'level': 1},    \n",
    "    \"PSFC\": {\"compressor\": \"zlib\", \"level\": 1},\n",
    "    'LAI': {'compressor': \"cheng2020_anchor\", 'level': 1},\n",
    "    'ALBEDO': {'compressor': \"mbt2018\", 'level': 1},     \n",
    "    'RAINC': {'compressor': \"fpzip\", 'rel_precision': 1e-4},     \n",
    "}\n",
    "\n",
    "\n",
    "\n",
    "compressor = sc.compression.Compressor(method=encode_dict)\n"
   ]
  },
  {
   "cell_type": "markdown",
   "metadata": {},
   "source": []
  },
  {
   "cell_type": "markdown",
   "metadata": {},
   "source": [
    "**Step 2. Compress and Decompress**"
   ]
  },
  {
   "cell_type": "code",
   "execution_count": 9,
   "metadata": {},
   "outputs": [
    {
     "name": "stderr",
     "output_type": "stream",
     "text": [
      "Processing variables: 100%|██████████| 7/7 [00:10<00:00,  1.52s/it]\n"
     ]
    },
    {
     "data": {
      "text/plain": [
       "'./datasets/Output'"
      ]
     },
     "execution_count": 9,
     "metadata": {},
     "output_type": "execute_result"
    }
   ],
   "source": [
    "# Encode the dataset to get compressed bitstrings and efficiency metrics\n",
    "saved_dir=\"./datasets/Output\"\n",
    "compressor.encode(example_ds, save_dir=saved_dir)\n"
   ]
  },
  {
   "cell_type": "markdown",
   "metadata": {},
   "source": [
    "The structure under the given save directory:\n",
    "```\n",
    "saved_dir/\n",
    "├── variable1/\n",
    "│   └── bin\n",
    "├── variable2/\n",
    "│   └── bin \n",
    "├── meta.nc\n",
    "── efficiency_metrics.pkl\n",
    "└── encoding_list.yaml\n",
    "```"
   ]
  },
  {
   "cell_type": "code",
   "execution_count": 10,
   "metadata": {},
   "outputs": [
    {
     "name": "stdout",
     "output_type": "stream",
     "text": [
      "\n",
      "Compression Results:\n"
     ]
    },
    {
     "data": {
      "text/html": [
       "<div>\n",
       "<style scoped>\n",
       "    .dataframe tbody tr th:only-of-type {\n",
       "        vertical-align: middle;\n",
       "    }\n",
       "\n",
       "    .dataframe tbody tr th {\n",
       "        vertical-align: top;\n",
       "    }\n",
       "\n",
       "    .dataframe thead th {\n",
       "        text-align: right;\n",
       "    }\n",
       "</style>\n",
       "<table border=\"1\" class=\"dataframe\">\n",
       "  <thead>\n",
       "    <tr style=\"text-align: right;\">\n",
       "      <th></th>\n",
       "      <th>variable</th>\n",
       "      <th>method</th>\n",
       "      <th>encoding_speed</th>\n",
       "      <th>decoding_speed</th>\n",
       "      <th>compression_ratio</th>\n",
       "      <th>original_bits</th>\n",
       "    </tr>\n",
       "  </thead>\n",
       "  <tbody>\n",
       "    <tr>\n",
       "      <th>0</th>\n",
       "      <td>T2</td>\n",
       "      <td>zlib</td>\n",
       "      <td>52.997772</td>\n",
       "      <td>1.219721e+02</td>\n",
       "      <td>1.447572e+00</td>\n",
       "      <td>14773500</td>\n",
       "    </tr>\n",
       "    <tr>\n",
       "      <th>1</th>\n",
       "      <td>U10</td>\n",
       "      <td>sz3</td>\n",
       "      <td>248.906973</td>\n",
       "      <td>5.624439e+00</td>\n",
       "      <td>1.109830e+02</td>\n",
       "      <td>14773500</td>\n",
       "    </tr>\n",
       "    <tr>\n",
       "      <th>2</th>\n",
       "      <td>V10</td>\n",
       "      <td>bmshj2018_factorized</td>\n",
       "      <td>41.559505</td>\n",
       "      <td>1.459105e-05</td>\n",
       "      <td>2.110500e+06</td>\n",
       "      <td>14773500</td>\n",
       "    </tr>\n",
       "    <tr>\n",
       "      <th>3</th>\n",
       "      <td>PSFC</td>\n",
       "      <td>zlib</td>\n",
       "      <td>47.392278</td>\n",
       "      <td>1.217060e+02</td>\n",
       "      <td>1.426980e+00</td>\n",
       "      <td>14773500</td>\n",
       "    </tr>\n",
       "    <tr>\n",
       "      <th>4</th>\n",
       "      <td>LAI</td>\n",
       "      <td>cheng2020_anchor</td>\n",
       "      <td>3.252694</td>\n",
       "      <td>3.268071e-07</td>\n",
       "      <td>2.110500e+06</td>\n",
       "      <td>14773500</td>\n",
       "    </tr>\n",
       "    <tr>\n",
       "      <th>5</th>\n",
       "      <td>ALBEDO</td>\n",
       "      <td>mbt2018</td>\n",
       "      <td>2.793920</td>\n",
       "      <td>5.123799e-07</td>\n",
       "      <td>2.110500e+06</td>\n",
       "      <td>14773500</td>\n",
       "    </tr>\n",
       "    <tr>\n",
       "      <th>6</th>\n",
       "      <td>RAINC</td>\n",
       "      <td>fpzip</td>\n",
       "      <td>446.073251</td>\n",
       "      <td>1.251549e-02</td>\n",
       "      <td>2.647581e+04</td>\n",
       "      <td>14773500</td>\n",
       "    </tr>\n",
       "  </tbody>\n",
       "</table>\n",
       "</div>"
      ],
      "text/plain": [
       "  variable                method  encoding_speed  decoding_speed  \\\n",
       "0       T2                  zlib       52.997772    1.219721e+02   \n",
       "1      U10                   sz3      248.906973    5.624439e+00   \n",
       "2      V10  bmshj2018_factorized       41.559505    1.459105e-05   \n",
       "3     PSFC                  zlib       47.392278    1.217060e+02   \n",
       "4      LAI      cheng2020_anchor        3.252694    3.268071e-07   \n",
       "5   ALBEDO               mbt2018        2.793920    5.123799e-07   \n",
       "6    RAINC                 fpzip      446.073251    1.251549e-02   \n",
       "\n",
       "   compression_ratio  original_bits  \n",
       "0       1.447572e+00       14773500  \n",
       "1       1.109830e+02       14773500  \n",
       "2       2.110500e+06       14773500  \n",
       "3       1.426980e+00       14773500  \n",
       "4       2.110500e+06       14773500  \n",
       "5       2.110500e+06       14773500  \n",
       "6       2.647581e+04       14773500  "
      ]
     },
     "execution_count": 10,
     "metadata": {},
     "output_type": "execute_result"
    }
   ],
   "source": [
    "\n",
    "# During decoding, the compressor will automatically detect the compression method and error bound. \n",
    "# So we don't need to specify the compressor.\n",
    "# We could clarify the compressor.\n",
    "compressor = sc.compression.Compressor(method=encode_dict)  # or\n",
    "compressor = sc.compression.Compressor()  # or\n",
    "compressor = sc.compression.Compressor(method=None)\n",
    "\n",
    "decompressed_ds = compressor.decode(saved_dir)\n",
    "\n",
    "\n",
    "# Check the efficiency performance of the compressor\n",
    "print(\"\\nCompression Results:\")\n",
    "compressor.efficiency_metrics  # (its a dataframe)\n",
    "\n"
   ]
  },
  {
   "cell_type": "markdown",
   "metadata": {},
   "source": [
    "2. (Optional) Encode and Decode use single method for all variable."
   ]
  },
  {
   "cell_type": "code",
   "execution_count": 11,
   "metadata": {},
   "outputs": [
    {
     "name": "stderr",
     "output_type": "stream",
     "text": [
      "Processing variables: 100%|██████████| 7/7 [00:02<00:00,  2.42it/s]\n"
     ]
    },
    {
     "name": "stdout",
     "output_type": "stream",
     "text": [
      "23.88225941838571\n"
     ]
    },
    {
     "data": {
      "text/html": [
       "<div>\n",
       "<style scoped>\n",
       "    .dataframe tbody tr th:only-of-type {\n",
       "        vertical-align: middle;\n",
       "    }\n",
       "\n",
       "    .dataframe tbody tr th {\n",
       "        vertical-align: top;\n",
       "    }\n",
       "\n",
       "    .dataframe thead th {\n",
       "        text-align: right;\n",
       "    }\n",
       "</style>\n",
       "<table border=\"1\" class=\"dataframe\">\n",
       "  <thead>\n",
       "    <tr style=\"text-align: right;\">\n",
       "      <th></th>\n",
       "      <th>variable</th>\n",
       "      <th>method</th>\n",
       "      <th>encoding_speed</th>\n",
       "      <th>decoding_speed</th>\n",
       "      <th>compression_ratio</th>\n",
       "      <th>original_bits</th>\n",
       "    </tr>\n",
       "  </thead>\n",
       "  <tbody>\n",
       "    <tr>\n",
       "      <th>0</th>\n",
       "      <td>T2</td>\n",
       "      <td>zlib</td>\n",
       "      <td>23.882259</td>\n",
       "      <td>128.377970</td>\n",
       "      <td>1.445869</td>\n",
       "      <td>14773500</td>\n",
       "    </tr>\n",
       "    <tr>\n",
       "      <th>1</th>\n",
       "      <td>U10</td>\n",
       "      <td>zlib</td>\n",
       "      <td>26.474620</td>\n",
       "      <td>175.943204</td>\n",
       "      <td>1.127700</td>\n",
       "      <td>14773500</td>\n",
       "    </tr>\n",
       "    <tr>\n",
       "      <th>2</th>\n",
       "      <td>V10</td>\n",
       "      <td>zlib</td>\n",
       "      <td>27.178690</td>\n",
       "      <td>179.016489</td>\n",
       "      <td>1.118393</td>\n",
       "      <td>14773500</td>\n",
       "    </tr>\n",
       "    <tr>\n",
       "      <th>3</th>\n",
       "      <td>PSFC</td>\n",
       "      <td>zlib</td>\n",
       "      <td>24.469109</td>\n",
       "      <td>133.017528</td>\n",
       "      <td>1.398495</td>\n",
       "      <td>14773500</td>\n",
       "    </tr>\n",
       "    <tr>\n",
       "      <th>4</th>\n",
       "      <td>LAI</td>\n",
       "      <td>zlib</td>\n",
       "      <td>38.120857</td>\n",
       "      <td>136.183765</td>\n",
       "      <td>2.012842</td>\n",
       "      <td>14773500</td>\n",
       "    </tr>\n",
       "    <tr>\n",
       "      <th>5</th>\n",
       "      <td>ALBEDO</td>\n",
       "      <td>zlib</td>\n",
       "      <td>60.880351</td>\n",
       "      <td>99.346790</td>\n",
       "      <td>3.556420</td>\n",
       "      <td>14773500</td>\n",
       "    </tr>\n",
       "    <tr>\n",
       "      <th>6</th>\n",
       "      <td>RAINC</td>\n",
       "      <td>zlib</td>\n",
       "      <td>430.591887</td>\n",
       "      <td>1.033761</td>\n",
       "      <td>1027.650250</td>\n",
       "      <td>14773500</td>\n",
       "    </tr>\n",
       "  </tbody>\n",
       "</table>\n",
       "</div>"
      ],
      "text/plain": [
       "  variable method  encoding_speed  decoding_speed  compression_ratio  \\\n",
       "0       T2   zlib       23.882259      128.377970           1.445869   \n",
       "1      U10   zlib       26.474620      175.943204           1.127700   \n",
       "2      V10   zlib       27.178690      179.016489           1.118393   \n",
       "3     PSFC   zlib       24.469109      133.017528           1.398495   \n",
       "4      LAI   zlib       38.120857      136.183765           2.012842   \n",
       "5   ALBEDO   zlib       60.880351       99.346790           3.556420   \n",
       "6    RAINC   zlib      430.591887        1.033761        1027.650250   \n",
       "\n",
       "   original_bits  \n",
       "0       14773500  \n",
       "1       14773500  \n",
       "2       14773500  \n",
       "3       14773500  \n",
       "4       14773500  \n",
       "5       14773500  \n",
       "6       14773500  "
      ]
     },
     "execution_count": 11,
     "metadata": {},
     "output_type": "execute_result"
    }
   ],
   "source": [
    "\n",
    "compressor=sc.compression.Compressor(method='zlib',level=5)\n",
    "\n",
    "# Compress the Xarray dataset.\n",
    "compressor.encode(example_ds, save_dir=saved_dir)\n",
    "\n",
    "# Decode the Xarray dataset.\n",
    "decompressed_ds = compressor.decode(saved_dir)\n",
    "\n",
    "# Check the efficiency performance of the compressor.\n",
    "print(decompressed_ds[\"T2\"].attrs[\"encoding_speed\"])\n",
    "# or\n",
    "compressor.efficiency_metrics"
   ]
  },
  {
   "cell_type": "markdown",
   "metadata": {},
   "source": [
    "# Find the optimal compression parameters for each variable."
   ]
  },
  {
   "cell_type": "code",
   "execution_count": 1,
   "metadata": {},
   "outputs": [
    {
     "name": "stdout",
     "output_type": "stream",
     "text": [
      "Dataset wrf already exists at ./datasets/wrf.nc, reloaded\n"
     ]
    },
    {
     "name": "stderr",
     "output_type": "stream",
     "text": [
      "Finding optimal configs:   0%|          | 0/7 [00:00<?, ?it/s]"
     ]
    },
    {
     "name": "stdout",
     "output_type": "stream",
     "text": [
      "Variable: T2, Compression Rate: 5144.538230485533, Absolute Precision: 5.0\n",
      "Variable: T2, Compression Rate: 696.8000920095855, Absolute Precision: 2.5\n",
      "Variable: T2, Compression Rate: 192.59743044952424, Absolute Precision: 1.25\n",
      "Variable: T2, Compression Rate: 86.0904166817779, Absolute Precision: 0.625\n",
      "Variable: T2, Compression Rate: 133.95661914883718, Absolute Precision: 0.9375\n",
      "Variable: T2, Compression Rate: 109.08582995037492, Absolute Precision: 0.78125\n",
      "Variable: T2, Compression Rate: 97.38423492392207, Absolute Precision: 0.703125\n",
      "Variable: T2, Compression Rate: 103.22229311332623, Absolute Precision: 0.7421875\n"
     ]
    },
    {
     "name": "stderr",
     "output_type": "stream",
     "text": [
      "Finding optimal configs:  14%|█▍        | 1/7 [00:15<01:35, 15.95s/it]"
     ]
    },
    {
     "name": "stdout",
     "output_type": "stream",
     "text": [
      "Variable: T2, Compression Rate: 100.25322664538045, Absolute Precision: 0.72265625\n",
      "Variable: U10, Compression Rate: 1645.250524882256, Absolute Precision: 5.0\n",
      "Variable: U10, Compression Rate: 350.07002789041843, Absolute Precision: 2.5\n",
      "Variable: U10, Compression Rate: 120.53086261388862, Absolute Precision: 1.25\n",
      "Variable: U10, Compression Rate: 55.67369894525422, Absolute Precision: 0.625\n",
      "Variable: U10, Compression Rate: 85.29510710336056, Absolute Precision: 0.9375\n",
      "Variable: U10, Compression Rate: 102.08249347963364, Absolute Precision: 1.09375\n",
      "Variable: U10, Compression Rate: 93.4526648960858, Absolute Precision: 1.015625\n",
      "Variable: U10, Compression Rate: 97.70873316206041, Absolute Precision: 1.0546875\n"
     ]
    },
    {
     "name": "stderr",
     "output_type": "stream",
     "text": [
      "Finding optimal configs:  29%|██▊       | 2/7 [00:32<01:20, 16.16s/it]"
     ]
    },
    {
     "name": "stdout",
     "output_type": "stream",
     "text": [
      "Variable: U10, Compression Rate: 99.92056462868702, Absolute Precision: 1.07421875\n",
      "Variable: V10, Compression Rate: 971.3641998056886, Absolute Precision: 5.0\n",
      "Variable: V10, Compression Rate: 267.2543258028602, Absolute Precision: 2.5\n",
      "Variable: V10, Compression Rate: 105.73491220438495, Absolute Precision: 1.25\n",
      "Variable: V10, Compression Rate: 52.089852539800496, Absolute Precision: 0.625\n",
      "Variable: V10, Compression Rate: 77.08804269777336, Absolute Precision: 0.9375\n",
      "Variable: V10, Compression Rate: 91.02728063512865, Absolute Precision: 1.09375\n",
      "Variable: V10, Compression Rate: 98.24738854576162, Absolute Precision: 1.171875\n"
     ]
    },
    {
     "name": "stderr",
     "output_type": "stream",
     "text": [
      "Finding optimal configs:  43%|████▎     | 3/7 [00:48<01:04, 16.16s/it]"
     ]
    },
    {
     "name": "stdout",
     "output_type": "stream",
     "text": [
      "Variable: V10, Compression Rate: 102.00579135879812, Absolute Precision: 1.2109375\n",
      "Variable: V10, Compression Rate: 100.04473330080002, Absolute Precision: 1.19140625\n",
      "Variable: PSFC, Compression Rate: 18.535765001718325, Absolute Precision: 5.0\n",
      "Variable: PSFC, Compression Rate: 19.50120251638462, Absolute Precision: 7.5\n",
      "Variable: PSFC, Compression Rate: 20.315630372385282, Absolute Precision: 8.75\n",
      "Variable: PSFC, Compression Rate: 20.335556126444512, Absolute Precision: 9.375\n",
      "Variable: PSFC, Compression Rate: 20.49222597432219, Absolute Precision: 9.6875\n",
      "Variable: PSFC, Compression Rate: 20.839050021122976, Absolute Precision: 9.84375\n",
      "Variable: PSFC, Compression Rate: 20.582979955909206, Absolute Precision: 9.921875\n",
      "Variable: PSFC, Compression Rate: 20.022335744086295, Absolute Precision: 9.9609375\n",
      "Variable: PSFC, Compression Rate: 19.956168349995203, Absolute Precision: 9.98046875\n"
     ]
    },
    {
     "name": "stderr",
     "output_type": "stream",
     "text": [
      "Finding optimal configs:  57%|█████▋    | 4/7 [01:16<01:02, 20.73s/it]"
     ]
    },
    {
     "name": "stdout",
     "output_type": "stream",
     "text": [
      "Variable: PSFC, Compression Rate: 18.34971023180687, Absolute Precision: 9.990234375\n",
      "Variable: LAI, Compression Rate: 3657.9210597458773, Absolute Precision: 5.0\n",
      "Variable: LAI, Compression Rate: 932.3402476474412, Absolute Precision: 2.5\n",
      "Variable: LAI, Compression Rate: 872.2829765790701, Absolute Precision: 1.25\n",
      "Variable: LAI, Compression Rate: 292.11058650310986, Absolute Precision: 0.625\n",
      "Variable: LAI, Compression Rate: 462.15813724720005, Absolute Precision: 0.3125\n",
      "Variable: LAI, Compression Rate: 283.8413305987792, Absolute Precision: 0.15625\n",
      "Variable: LAI, Compression Rate: 235.72670488596927, Absolute Precision: 0.078125\n",
      "Variable: LAI, Compression Rate: 36.92962101875914, Absolute Precision: 0.0390625\n",
      "Variable: LAI, Compression Rate: 124.439337127953, Absolute Precision: 0.05859375\n"
     ]
    },
    {
     "name": "stderr",
     "output_type": "stream",
     "text": [
      "Finding optimal configs:  71%|███████▏  | 5/7 [01:30<00:37, 18.54s/it]"
     ]
    },
    {
     "name": "stdout",
     "output_type": "stream",
     "text": [
      "Variable: LAI, Compression Rate: 178.12729148501174, Absolute Precision: 0.048828125\n",
      "Variable: ALBEDO, Compression Rate: 1663604.5081967213, Absolute Precision: 5.0\n",
      "Variable: ALBEDO, Compression Rate: 1663604.5081967213, Absolute Precision: 2.5\n",
      "Variable: ALBEDO, Compression Rate: 1663604.5081967213, Absolute Precision: 1.25\n",
      "Variable: ALBEDO, Compression Rate: 270432.7115256496, Absolute Precision: 0.625\n",
      "Variable: ALBEDO, Compression Rate: 49928.59778597786, Absolute Precision: 0.3125\n",
      "Variable: ALBEDO, Compression Rate: 2671.858955793686, Absolute Precision: 0.15625\n",
      "Variable: ALBEDO, Compression Rate: 280.1367145040907, Absolute Precision: 0.078125\n",
      "Variable: ALBEDO, Compression Rate: 660.3441628477865, Absolute Precision: 0.0390625\n",
      "Variable: ALBEDO, Compression Rate: 1333.6646252513438, Absolute Precision: 0.01953125\n"
     ]
    },
    {
     "name": "stderr",
     "output_type": "stream",
     "text": [
      "Finding optimal configs:  86%|████████▌ | 6/7 [01:44<00:16, 16.80s/it]"
     ]
    },
    {
     "name": "stdout",
     "output_type": "stream",
     "text": [
      "Variable: ALBEDO, Compression Rate: 849.2306243919788, Absolute Precision: 0.009765625\n",
      "Variable: RAINC, Compression Rate: 1663604.5081967213, Absolute Precision: 5.0\n",
      "Variable: RAINC, Compression Rate: 1663604.5081967213, Absolute Precision: 2.5\n",
      "Variable: RAINC, Compression Rate: 1663604.5081967213, Absolute Precision: 1.25\n",
      "Variable: RAINC, Compression Rate: 1663604.5081967213, Absolute Precision: 0.625\n",
      "Variable: RAINC, Compression Rate: 1663604.5081967213, Absolute Precision: 0.3125\n",
      "Variable: RAINC, Compression Rate: 1663604.5081967213, Absolute Precision: 0.15625\n",
      "Variable: RAINC, Compression Rate: 1663604.5081967213, Absolute Precision: 0.078125\n",
      "Variable: RAINC, Compression Rate: 1663604.5081967213, Absolute Precision: 0.0390625\n",
      "Variable: RAINC, Compression Rate: 1656814.2857142857, Absolute Precision: 0.01953125\n"
     ]
    },
    {
     "name": "stderr",
     "output_type": "stream",
     "text": [
      "Finding optimal configs: 100%|██████████| 7/7 [01:56<00:00, 16.65s/it]"
     ]
    },
    {
     "name": "stdout",
     "output_type": "stream",
     "text": [
      "Variable: RAINC, Compression Rate: 1663604.5081967213, Absolute Precision: 0.009765625\n",
      "{'T2': {'abs_precision': 0.72265625, 'compression_rate': 100.25322664538045}, 'U10': {'abs_precision': 1.07421875, 'compression_rate': 99.92056462868702}, 'V10': {'abs_precision': 1.19140625, 'compression_rate': 100.04473330080002}, 'PSFC': {'abs_precision': 9.990234375, 'compression_rate': 18.34971023180687}, 'LAI': {'abs_precision': 0.048828125, 'compression_rate': 178.12729148501174}, 'ALBEDO': {'abs_precision': 0.009765625, 'compression_rate': 849.2306243919788}, 'RAINC': {'abs_precision': 0.009765625, 'compression_rate': 1663604.5081967213}}\n"
     ]
    },
    {
     "name": "stderr",
     "output_type": "stream",
     "text": [
      "\n"
     ]
    }
   ],
   "source": [
    "import scicodec as sc\n",
    "example_ds = sc.dataset.download_benchmark(\"wrf\")\n",
    "compressor=sc.compression.Compressor(method=\"sz3\", abs_precision=0.0001)\n",
    "config=compressor.find_config_with_rate(example_ds, compression_rate=100)\n",
    "print(config)\n",
    "\n",
    "\n",
    "{'T2': {'abs_precision': 0.72265625, 'compression_rate': 100.25322664538045}, 'U10': {'abs_precision': 1.07421875, 'compression_rate': 99.92056462868702}, 'V10': {'abs_precision': 1.19140625, 'compression_rate': 100.04473330080002}, 'PSFC': {'abs_precision': 9.990234375, 'compression_rate': 18.34971023180687}, 'LAI': {'abs_precision': 0.048828125, 'compression_rate': 178.12729148501174}, 'ALBEDO': {'abs_precision': 0.009765625, 'compression_rate': 849.2306243919788}, 'RAINC': {'abs_precision': 0.009765625, 'compression_rate': 1663604.5081967213}}"
   ]
  },
  {
   "cell_type": "code",
   "execution_count": 1,
   "metadata": {},
   "outputs": [
    {
     "name": "stdout",
     "output_type": "stream",
     "text": [
      "Dataset wrf already exists at ./datasets/wrf.nc, reloaded\n"
     ]
    },
    {
     "name": "stderr",
     "output_type": "stream",
     "text": [
      "/home/zhehao/anaconda3/envs/compressAI/lib/python3.12/site-packages/compressai/models/video/google.py:353: FutureWarning: `torch.cuda.amp.autocast(args...)` is deprecated. Please use `torch.amp.autocast('cuda', args...)` instead.\n",
      "  @amp.autocast(enabled=False)\n",
      "Finding optimal configs:   0%|          | 0/7 [00:00<?, ?it/s]"
     ]
    },
    {
     "name": "stdout",
     "output_type": "stream",
     "text": [
      "Variable: T2, Compression Rate: 565.0106900065142, Level: 3\n",
      "Variable: T2, Compression Rate: 270.0117737837083, Level: 5\n"
     ]
    },
    {
     "name": "stderr",
     "output_type": "stream",
     "text": [
      "Finding optimal configs:  14%|█▍        | 1/7 [00:36<03:38, 36.40s/it]"
     ]
    },
    {
     "name": "stdout",
     "output_type": "stream",
     "text": [
      "Variable: T2, Compression Rate: 188.64814697768492, Level: 6\n",
      "Variable: U10, Compression Rate: 510.59313505979907, Level: 3\n",
      "Variable: U10, Compression Rate: 242.95500251382603, Level: 5\n"
     ]
    },
    {
     "name": "stderr",
     "output_type": "stream",
     "text": [
      "Finding optimal configs:  29%|██▊       | 2/7 [01:13<03:03, 36.77s/it]"
     ]
    },
    {
     "name": "stdout",
     "output_type": "stream",
     "text": [
      "Variable: U10, Compression Rate: 171.3564752665839, Level: 6\n",
      "Variable: V10, Compression Rate: 499.60306910659165, Level: 3\n",
      "Variable: V10, Compression Rate: 245.05417616490226, Level: 5\n"
     ]
    },
    {
     "name": "stderr",
     "output_type": "stream",
     "text": [
      "Finding optimal configs:  43%|████▎     | 3/7 [01:52<02:30, 37.72s/it]"
     ]
    },
    {
     "name": "stdout",
     "output_type": "stream",
     "text": [
      "Variable: V10, Compression Rate: 174.92368195153566, Level: 6\n",
      "Variable: PSFC, Compression Rate: 559.1146880733439, Level: 3\n",
      "Variable: PSFC, Compression Rate: 287.12538974744933, Level: 5\n"
     ]
    },
    {
     "name": "stderr",
     "output_type": "stream",
     "text": [
      "Finding optimal configs:  57%|█████▋    | 4/7 [02:31<01:54, 38.13s/it]"
     ]
    },
    {
     "name": "stdout",
     "output_type": "stream",
     "text": [
      "Variable: PSFC, Compression Rate: 207.8368495106161, Level: 6\n",
      "Variable: LAI, Compression Rate: 234.630124158979, Level: 3\n",
      "Variable: LAI, Compression Rate: 120.79715147871941, Level: 5\n"
     ]
    },
    {
     "name": "stderr",
     "output_type": "stream",
     "text": [
      "Finding optimal configs:  71%|███████▏  | 5/7 [03:08<01:15, 37.90s/it]"
     ]
    },
    {
     "name": "stdout",
     "output_type": "stream",
     "text": [
      "Variable: LAI, Compression Rate: 88.04744485965577, Level: 6\n",
      "Variable: ALBEDO, Compression Rate: 259.4431093328561, Level: 3\n",
      "Variable: ALBEDO, Compression Rate: 131.17704657385505, Level: 5\n"
     ]
    },
    {
     "name": "stderr",
     "output_type": "stream",
     "text": [
      "Finding optimal configs:  86%|████████▌ | 6/7 [03:45<00:37, 37.53s/it]"
     ]
    },
    {
     "name": "stdout",
     "output_type": "stream",
     "text": [
      "Variable: ALBEDO, Compression Rate: 95.15581925248017, Level: 6\n",
      "Variable: RAINC, Compression Rate: 707.2507579189462, Level: 3\n",
      "Variable: RAINC, Compression Rate: 366.537269604603, Level: 5\n"
     ]
    },
    {
     "name": "stderr",
     "output_type": "stream",
     "text": [
      "Finding optimal configs: 100%|██████████| 7/7 [04:23<00:00, 37.62s/it]"
     ]
    },
    {
     "name": "stdout",
     "output_type": "stream",
     "text": [
      "Variable: RAINC, Compression Rate: 265.46718410334086, Level: 6\n",
      "{'T2': {'level': 6, 'compression_rate': 188.64814697768492}, 'U10': {'level': 6, 'compression_rate': 171.3564752665839}, 'V10': {'level': 6, 'compression_rate': 174.92368195153566}, 'PSFC': {'level': 6, 'compression_rate': 207.8368495106161}, 'LAI': {'level': 6, 'compression_rate': 88.04744485965577}, 'ALBEDO': {'level': 6, 'compression_rate': 95.15581925248017}, 'RAINC': {'level': 6, 'compression_rate': 265.46718410334086}}\n"
     ]
    },
    {
     "name": "stderr",
     "output_type": "stream",
     "text": [
      "\n"
     ]
    }
   ],
   "source": [
    "import scicodec as sc\n",
    "example_ds = sc.dataset.download_benchmark(\"wrf\")\n",
    "compressor=sc.compression.Compressor(method=\"bmshj2018_factorized\", level=1)\n",
    "config=compressor.find_config_with_rate(example_ds, compression_rate=100)\n",
    "print(config)\n"
   ]
  },
  {
   "cell_type": "code",
   "execution_count": 1,
   "metadata": {},
   "outputs": [
    {
     "name": "stdout",
     "output_type": "stream",
     "text": [
      "Dataset wrf already exists at ./datasets/wrf.nc, reloaded\n"
     ]
    },
    {
     "name": "stderr",
     "output_type": "stream",
     "text": [
      "Finding optimal configs:   0%|          | 0/7 [00:00<?, ?it/s]"
     ]
    },
    {
     "name": "stdout",
     "output_type": "stream",
     "text": [
      "Variable: T2, Compression Rate: 14.590827292874842, Bit Precision: 16\n",
      "Variable: T2, Compression Rate: 87.81741691170998, Bit Precision: 7\n"
     ]
    },
    {
     "name": "stderr",
     "output_type": "stream",
     "text": [
      "Finding optimal configs:  14%|█▍        | 1/7 [00:05<00:33,  5.51s/it]"
     ]
    },
    {
     "name": "stdout",
     "output_type": "stream",
     "text": [
      "Variable: T2, Compression Rate: 134.6533415247108, Bit Precision: 3\n",
      "Variable: T2, Compression Rate: 106.30528447278883, Bit Precision: 5\n",
      "Variable: T2, Compression Rate: 96.180885305006, Bit Precision: 6\n",
      "Variable: U10, Compression Rate: 3.6065673369128, Bit Precision: 16\n",
      "Variable: U10, Compression Rate: 26.830770023954187, Bit Precision: 7\n"
     ]
    },
    {
     "name": "stderr",
     "output_type": "stream",
     "text": [
      "Finding optimal configs:  29%|██▊       | 2/7 [00:11<00:29,  5.82s/it]"
     ]
    },
    {
     "name": "stdout",
     "output_type": "stream",
     "text": [
      "Variable: U10, Compression Rate: 137.53679669520952, Bit Precision: 3\n",
      "Variable: U10, Compression Rate: 65.97948248823838, Bit Precision: 5\n",
      "Variable: U10, Compression Rate: 101.14609289345161, Bit Precision: 4\n",
      "Variable: V10, Compression Rate: 3.592215339769547, Bit Precision: 16\n",
      "Variable: V10, Compression Rate: 26.57481784128833, Bit Precision: 7\n",
      "Variable: V10, Compression Rate: 136.6092053825278, Bit Precision: 3\n",
      "Variable: V10, Compression Rate: 64.5517534206492, Bit Precision: 5\n"
     ]
    },
    {
     "name": "stderr",
     "output_type": "stream",
     "text": [
      "Finding optimal configs:  43%|████▎     | 3/7 [00:17<00:23,  5.93s/it]"
     ]
    },
    {
     "name": "stdout",
     "output_type": "stream",
     "text": [
      "Variable: V10, Compression Rate: 99.17620999425348, Bit Precision: 4\n",
      "Variable: PSFC, Compression Rate: 15.27793669313862, Bit Precision: 16\n",
      "Variable: PSFC, Compression Rate: 87.81741691170998, Bit Precision: 7\n",
      "Variable: PSFC, Compression Rate: 134.6533415247108, Bit Precision: 3\n",
      "Variable: PSFC, Compression Rate: 106.30528447278883, Bit Precision: 5\n"
     ]
    },
    {
     "name": "stderr",
     "output_type": "stream",
     "text": [
      "Finding optimal configs:  57%|█████▋    | 4/7 [00:23<00:17,  5.72s/it]"
     ]
    },
    {
     "name": "stdout",
     "output_type": "stream",
     "text": [
      "Variable: PSFC, Compression Rate: 96.180885305006, Bit Precision: 6\n",
      "Variable: LAI, Compression Rate: 9.90500388763097, Bit Precision: 16\n",
      "Variable: LAI, Compression Rate: 65.64342342388963, Bit Precision: 7\n"
     ]
    },
    {
     "name": "stderr",
     "output_type": "stream",
     "text": [
      "Finding optimal configs:  71%|███████▏  | 5/7 [00:27<00:10,  5.11s/it]"
     ]
    },
    {
     "name": "stdout",
     "output_type": "stream",
     "text": [
      "Variable: LAI, Compression Rate: 198.29738195546315, Bit Precision: 3\n",
      "Variable: LAI, Compression Rate: 123.00829470632158, Bit Precision: 5\n",
      "Variable: LAI, Compression Rate: 89.1832838260625, Bit Precision: 6\n",
      "Variable: ALBEDO, Compression Rate: 12.364888328398582, Bit Precision: 16\n",
      "Variable: ALBEDO, Compression Rate: 59.013788703858346, Bit Precision: 7\n"
     ]
    },
    {
     "name": "stderr",
     "output_type": "stream",
     "text": [
      "Finding optimal configs:  86%|████████▌ | 6/7 [00:31<00:05,  5.00s/it]"
     ]
    },
    {
     "name": "stdout",
     "output_type": "stream",
     "text": [
      "Variable: ALBEDO, Compression Rate: 135.23185201768624, Bit Precision: 3\n",
      "Variable: ALBEDO, Compression Rate: 96.67604245062829, Bit Precision: 5\n",
      "Variable: ALBEDO, Compression Rate: 117.12063278458456, Bit Precision: 4\n",
      "Variable: RAINC, Compression Rate: 2019.7411631239552, Bit Precision: 16\n",
      "Variable: RAINC, Compression Rate: 2019.7411631239552, Bit Precision: 24\n",
      "Variable: RAINC, Compression Rate: 2019.7411631239552, Bit Precision: 28\n",
      "Variable: RAINC, Compression Rate: 2019.7411631239552, Bit Precision: 30\n"
     ]
    },
    {
     "name": "stderr",
     "output_type": "stream",
     "text": [
      "Finding optimal configs: 100%|██████████| 7/7 [00:33<00:00,  4.81s/it]"
     ]
    },
    {
     "name": "stdout",
     "output_type": "stream",
     "text": [
      "Variable: RAINC, Compression Rate: 2019.7411631239552, Bit Precision: 31\n",
      "Variable: RAINC, Compression Rate: 2019.7411631239552, Bit Precision: 32\n",
      "{'T2': {'bit_precision': 6, 'compression_rate': 96.180885305006}, 'U10': {'bit_precision': 4, 'compression_rate': 101.14609289345161}, 'V10': {'bit_precision': 4, 'compression_rate': 99.17620999425348}, 'PSFC': {'bit_precision': 6, 'compression_rate': 96.180885305006}, 'LAI': {'bit_precision': 6, 'compression_rate': 89.1832838260625}, 'ALBEDO': {'bit_precision': 4, 'compression_rate': 117.12063278458456}, 'RAINC': {'bit_precision': 32, 'compression_rate': 2019.7411631239552}}\n"
     ]
    },
    {
     "name": "stderr",
     "output_type": "stream",
     "text": [
      "\n"
     ]
    }
   ],
   "source": [
    "import scicodec as sc\n",
    "example_ds = sc.dataset.download_benchmark(\"wrf\")\n",
    "compressor=sc.compression.Compressor(method=\"zfp\", bit_precision=15)\n",
    "config=compressor.find_config_with_rate(example_ds, compression_rate=100)\n",
    "print(config)\n",
    "\n"
   ]
  },
  {
   "cell_type": "markdown",
   "metadata": {},
   "source": [
    "# 3. Batch Compression"
   ]
  },
  {
   "cell_type": "code",
   "execution_count": 1,
   "metadata": {},
   "outputs": [
    {
     "name": "stdout",
     "output_type": "stream",
     "text": [
      "Dataset wrf already exists at ./datasets/wrf.nc, reloaded\n"
     ]
    },
    {
     "name": "stderr",
     "output_type": "stream",
     "text": [
      "Batch Decoding:  33%|███▎      | 1/3 [00:47<01:35, 47.59s/it]/home/zhehao/anaconda3/envs/compressAI/lib/python3.12/site-packages/compressai/models/video/google.py:353: FutureWarning: `torch.cuda.amp.autocast(args...)` is deprecated. Please use `torch.amp.autocast('cuda', args...)` instead.\n",
      "  @amp.autocast(enabled=False)\n",
      "Batch Decoding: 100%|██████████| 3/3 [04:58<00:00, 99.35s/it] \n"
     ]
    }
   ],
   "source": [
    "\n",
    "import scicodec as sc\n",
    "example_ds = sc.dataset.download_benchmark(\"wrf\")\n",
    "\n",
    "\n",
    "# Compress the Xarray dataset.\n",
    "sz3_dict={'T2': {'abs_precision': 0.72265625, 'compressor': 'sz3'}, \n",
    " 'U10': {'abs_precision': 1.07421875, 'compressor': 'sz3'}, \n",
    " 'V10': {'abs_precision': 1.19140625, 'compressor': 'sz3'}, \n",
    " 'PSFC': {'abs_precision': 9.990234375, 'compressor': 'sz3'}, \n",
    " 'LAI': {'abs_precision': 0.048828125, 'compressor': 'sz3'}, \n",
    " 'ALBEDO': {'abs_precision': 0.009765625, 'compressor': 'sz3'}, \n",
    " 'RAINC': {'abs_precision': 0.009765625, 'compressor': 'sz3'}}\n",
    "\n",
    "    \n",
    "zfp_dict={'T2': {'bit_precision': 6, 'compressor': 'zfp'}, \n",
    " 'U10': {'bit_precision': 4, 'compressor': 'zfp'}, \n",
    " 'V10': {'bit_precision': 4, 'compressor': 'zfp'}, \n",
    " 'PSFC': {'bit_precision': 6, 'compressor': 'zfp'}, \n",
    " 'LAI': {'bit_precision': 6, 'compressor': 'zfp'}, \n",
    " 'ALBEDO': {'bit_precision': 4, 'compressor': 'zfp'}, \n",
    " 'RAINC': {'bit_precision': 32, 'compressor': 'zfp'}}\n",
    "\n",
    "\n",
    "\n",
    "batch_dict = {\n",
    "    \"work1\": sz3_dict,\n",
    "    'work2': {'compressor': \"bmshj2018_factorized\", 'level': 7},   \n",
    "    'work3': zfp_dict,    \n",
    "}\n",
    "\n",
    "saved_dir=\"./datasets/batch_output\"\n",
    "\n",
    "compressor=sc.compression.BatchCompressor(method= batch_dict)\n",
    "\n",
    "# Compress the Xarray dataset.\n",
    "compressor.encode(example_ds, save_dir=saved_dir)\n",
    "\n",
    "# Decode the Xarray dataset.\n",
    "decompressed_ds = compressor.decode(saved_dir,output_dir=saved_dir)\n",
    "\n",
    "\n"
   ]
  }
 ],
 "metadata": {
  "kernelspec": {
   "display_name": "base",
   "language": "python",
   "name": "python3"
  },
  "language_info": {
   "codemirror_mode": {
    "name": "ipython",
    "version": 3
   },
   "file_extension": ".py",
   "mimetype": "text/x-python",
   "name": "python",
   "nbconvert_exporter": "python",
   "pygments_lexer": "ipython3",
   "version": "3.12.7"
  }
 },
 "nbformat": 4,
 "nbformat_minor": 2
}
